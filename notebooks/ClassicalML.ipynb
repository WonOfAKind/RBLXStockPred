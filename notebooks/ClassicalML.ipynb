{
 "cells": [
  {
   "metadata": {},
   "cell_type": "markdown",
   "source": [
    "## Classical Model Version: XGBoost + Random Forest\n",
    "\n",
    "- This notebook contains my steps on creating the most optimal model for the classical version of this. \n",
    "- The goal for the model is to find the next 5 day return target and to advise whether to buy hold or sell.\n",
    "\n",
    "Why RBLX? well, I grew up playing roblox and I also have shares invested in roblox lol"
   ],
   "id": "b6cfcecd8441d9f3"
  },
  {
   "metadata": {},
   "cell_type": "markdown",
   "source": "### Initial Data Setup",
   "id": "c248a3f6978122f5"
  },
  {
   "metadata": {
    "ExecuteTime": {
     "end_time": "2025-07-18T17:11:17.795167Z",
     "start_time": "2025-07-18T17:11:17.776481Z"
    }
   },
   "cell_type": "code",
   "source": [
    "from __future__ import annotations\n",
    "\n",
    "# ────────────────────── 1. CONFIGURATION ──────────────────────\n",
    "import os, random, warnings, math, joblib, json, datetime as dt\n",
    "from pathlib import Path\n",
    "from typing import Tuple, List\n",
    "\n",
    "import numpy as np\n",
    "import pandas as pd\n",
    "import optuna, ta, holidays\n",
    "from sklearn.model_selection import TimeSeriesSplit\n",
    "from sklearn.metrics import mean_absolute_error\n",
    "from xgboost import XGBRegressor\n",
    "import matplotlib.pyplot as plt\n",
    "import statsmodels.api as sm\n",
    "\n"
   ],
   "id": "53b2edd292ea8876",
   "outputs": [],
   "execution_count": 172
  },
  {
   "metadata": {
    "ExecuteTime": {
     "end_time": "2025-07-18T17:11:17.815476Z",
     "start_time": "2025-07-18T17:11:17.810561Z"
    }
   },
   "cell_type": "code",
   "source": [
    "# --------------------- User-Editable Hyperparams --------------\n",
    "DATA_PATH   = \"../data/master_dataset_cleaned.csv\"   # <- Must contain ≥2021 data\n",
    "MODEL_DIR   = \"../models\"\n",
    "SEED        = 42\n",
    "\n",
    "HORIZON     = 5          # Days ahead for prediction/log return calculation\n",
    "TRAIN_WD    = 240        # Training window (~1 year)\n",
    "TEST_WD     = 40\n",
    "STEP        = HORIZON    # Walk-forward step (same as prediction horizon)\n",
    "CONV_PCTL   = 0.25       # Conviction filter quantile\n",
    "TARGET_VOL  = 0.15       # Target annualized volatility\n",
    "LEVER_CAP   = 3\n",
    "BETA_SHRINK = 0.8        # Shrinkage for raw beta estimate\n",
    "TR_COST     = 0.0002     # Transaction cost (round-trip, 20bp)\n",
    "BORROW_FEE  = 0.001      # Borrow fee per annum (optional)\n",
    "RISK_FREE   = 0.00       # Risk-free rate (assume zero for simplicity)"
   ],
   "id": "23c1b7057e40a6a",
   "outputs": [],
   "execution_count": 173
  },
  {
   "metadata": {
    "ExecuteTime": {
     "end_time": "2025-07-18T17:11:17.877589Z",
     "start_time": "2025-07-18T17:11:17.873809Z"
    }
   },
   "cell_type": "code",
   "source": [
    "# ─────────────── 2. REPRODUCIBILITY SETUP ───────────────\n",
    "np.random.seed(SEED)\n",
    "random.seed(SEED)\n",
    "warnings.filterwarnings(\"ignore\")\n",
    "Path(MODEL_DIR).mkdir(parents=True, exist_ok=True)\n"
   ],
   "id": "c9db03c2a8841c9b",
   "outputs": [],
   "execution_count": 174
  },
  {
   "metadata": {
    "ExecuteTime": {
     "end_time": "2025-07-18T17:11:17.949207Z",
     "start_time": "2025-07-18T17:11:17.912299Z"
    }
   },
   "cell_type": "code",
   "source": [
    "# ─── 3. LOAD DATA & BUILD TARGET (STRICTLY FORWARD) ────\n",
    "df = (\n",
    "    pd.read_csv(DATA_PATH, parse_dates=[\"date\"])    # Expects at least 3 years of data\n",
    "      .sort_values(\"date\")\n",
    "      .set_index(\"date\")\n",
    ")\n",
    "\n",
    "# ────── CALCULATE 5-DAY LOG RETURN TARGET ('y') ──────\n",
    "# For each date t, compute log return to t+HORIZON (here, 5 days ahead)\n",
    "df[\"y\"] = np.log(df[\"Close\"].shift(-HORIZON) / df[\"Close\"])\n"
   ],
   "id": "8ff19ddf817878da",
   "outputs": [],
   "execution_count": 175
  },
  {
   "metadata": {},
   "cell_type": "markdown",
   "source": "### Feature Engineering",
   "id": "61279ff83e450da3"
  },
  {
   "metadata": {
    "ExecuteTime": {
     "end_time": "2025-07-18T17:11:18.042881Z",
     "start_time": "2025-07-18T17:11:17.986338Z"
    }
   },
   "cell_type": "code",
   "source": [
    "# ───────────────────── 4. FEATURE ENGINEERING ─────────────────────\n",
    "LAGS: List[int] = [1, 2, 3, 5, 10, 20]\n",
    "for l in LAGS:\n",
    "    df[f\"ret_{l}\"]     = df[\"Close\"].pct_change(l).shift(1)    # Past returns\n",
    "    df[f\"vol_ret_{l}\"] = df[\"Volume\"].pct_change(l).shift(1)   # Past volume change\n",
    "\n",
    "df[\"mom_20\"] = np.sign(df[\"Close\"].pct_change(20).shift(1))    # 20-day momentum (sign)\n",
    "\n",
    "# Technical indicators (RSI, ATR, Bollinger Bands)\n",
    "df[\"rsi_14\"] = ta.momentum.RSIIndicator(df[\"Close\"], 14).rsi().shift(1)\n",
    "atr = ta.volatility.AverageTrueRange(df[\"High\"], df[\"Low\"], df[\"Close\"], 14)\n",
    "df[\"atr_14\"] = atr.average_true_range().shift(1)\n",
    "bb = ta.volatility.BollingerBands(df[\"Close\"], 20)\n",
    "df[\"bb_high\"], df[\"bb_low\"] = bb.bollinger_hband().shift(1), bb.bollinger_lband().shift(1)\n",
    "\n",
    "# Lagged macro features\n",
    "for col in df.columns:\n",
    "    if col.startswith((\"SP500_\", \"Nasdaq_\", \"NASDAQ_\", \"VIX\", \"vix\")):\n",
    "        df[f\"{col}_lag1\"] = df[col].shift(1)\n",
    "\n",
    "# US holidays (binary flag)\n",
    "us_holidays = holidays.US()\n",
    "df[\"is_holiday\"] = df.index.to_series().map(lambda d: int(d in us_holidays)).shift(1)\n",
    "\n",
    "# Forward-fill and set feature start index (to avoid lookahead bias)\n",
    "df = df.ffill()\n",
    "feature_cols_prelim = [c for c in df.columns if c != \"y\"]\n",
    "first_vals = [df[c].first_valid_index() for c in feature_cols_prelim if df[c].notna().any()]\n",
    "first_vals = [ts for ts in first_vals if ts is not None]\n",
    "FEATURE_START = max(first_vals)\n",
    "df = df.loc[FEATURE_START:].dropna()"
   ],
   "id": "dd1a7ab4f547059c",
   "outputs": [],
   "execution_count": 176
  },
  {
   "metadata": {
    "ExecuteTime": {
     "end_time": "2025-07-18T17:11:18.086483Z",
     "start_time": "2025-07-18T17:11:18.080617Z"
    }
   },
   "cell_type": "code",
   "source": [
    "# ─── 5. FEATURE SET: FILTER TO SIGNAL-RELEVANT INPUTS ───\n",
    "DROP_PREFIXES = (\"qbs_\", \"qis_\", \"qcf_\")\n",
    "RAW_RBLX      = {\"Open\", \"High\", \"Low\", \"Close\", \"Adj Close\", \"Volume\"}\n",
    "MACRO_SAMEDAY = {c for c in df.columns if c.startswith((\"SP500_\", \"Nasdaq_\", \"NASDAQ_\", \"VIX\", \"vix\"))}\n",
    "\n",
    "feature_cols = [\n",
    "    c for c in df.columns\n",
    "    if c != \"y\" and not c.startswith(DROP_PREFIXES)\n",
    "    and c not in RAW_RBLX and c not in MACRO_SAMEDAY\n",
    "]\n",
    "\n",
    "print(f\"[INFO] Final feature count: {len(feature_cols)}\")"
   ],
   "id": "814550df6c5ea34",
   "outputs": [
    {
     "name": "stdout",
     "output_type": "stream",
     "text": [
      "[INFO] Final feature count: 32\n"
     ]
    }
   ],
   "execution_count": 177
  },
  {
   "metadata": {},
   "cell_type": "markdown",
   "source": "### Training",
   "id": "703303f4d5488f78"
  },
  {
   "metadata": {
    "ExecuteTime": {
     "end_time": "2025-07-18T17:11:37.596494Z",
     "start_time": "2025-07-18T17:11:18.124884Z"
    }
   },
   "cell_type": "code",
   "source": [
    "# ───── 6. HYPERPARAMETER TUNING WITH OPTUNA ─────\n",
    "ts_train = df.iloc[:TRAIN_WD]\n",
    "X_tune, y_tune = ts_train[feature_cols].values, ts_train[\"y\"].values\n",
    "tscv = TimeSeriesSplit(n_splits=3, test_size=TEST_WD, gap=HORIZON)\n",
    "\n",
    "def objective(trial: optuna.trial.Trial) -> float:\n",
    "    \"\"\"Objective function for Optuna hyperparameter search using time series split.\"\"\"\n",
    "    params = {\n",
    "        \"n_estimators\": trial.suggest_int(\"n_estimators\", 400, 1200),\n",
    "        \"max_depth\": trial.suggest_int(\"max_depth\", 3, 10),\n",
    "        \"learning_rate\": trial.suggest_float(\"learning_rate\", 0.03, 0.3, log=True),\n",
    "        \"subsample\": trial.suggest_float(\"subsample\", 0.6, 1.0),\n",
    "        \"colsample_bytree\": trial.suggest_float(\"colsample_bytree\", 0.6, 1.0),\n",
    "        \"gamma\": trial.suggest_float(\"gamma\", 0, 10),\n",
    "        \"min_child_weight\": trial.suggest_float(\"min_child_weight\", 0, 5),\n",
    "        \"reg_lambda\": trial.suggest_float(\"reg_lambda\", 0, 10),\n",
    "        \"objective\": \"reg:squarederror\",\n",
    "        \"tree_method\": \"hist\",\n",
    "        \"device\": \"cuda\",\n",
    "        \"random_state\": SEED,\n",
    "        \"early_stopping_rounds\": 30,\n",
    "    }\n",
    "    scores = []\n",
    "    for tr_idx, val_idx in tscv.split(X_tune):\n",
    "        split = int(len(tr_idx) * 0.9)\n",
    "        X_fit, y_fit = X_tune[tr_idx][:split], y_tune[tr_idx][:split]\n",
    "        X_es,  y_es  = X_tune[tr_idx][split:], y_tune[tr_idx][split:]\n",
    "        mdl = XGBRegressor(**params, verbosity=0)\n",
    "        mdl.fit(X_fit, y_fit, eval_set=[(X_es, y_es)], verbose=False)\n",
    "        y_pred = mdl.predict(X_tune[val_idx])\n",
    "        scores.append(mean_absolute_error(y_tune[val_idx], y_pred))\n",
    "    return float(np.mean(scores))\n",
    "\n",
    "print(\"🔍  Optuna hyper‑param search … (≤ 60 trials or 1 h)\")\n",
    "study = optuna.create_study(direction=\"minimize\", sampler=optuna.samplers.TPESampler(seed=SEED))\n",
    "study.optimize(objective, n_trials=60, timeout=3600, show_progress_bar=True)\n",
    "params_best = study.best_trial.params\n",
    "joblib.dump(params_best, f\"{MODEL_DIR}/best_params.pkl\")\n"
   ],
   "id": "342823c81bd455a4",
   "outputs": [
    {
     "name": "stderr",
     "output_type": "stream",
     "text": [
      "[I 2025-07-18 13:11:18,133] A new study created in memory with name: no-name-8cfcac31-3122-4918-ad0f-0b6498b9e9e5\n"
     ]
    },
    {
     "name": "stdout",
     "output_type": "stream",
     "text": [
      "🔍  Optuna hyper‑param search … (≤ 60 trials or 1 h)\n"
     ]
    },
    {
     "data": {
      "text/plain": [
       "  0%|          | 0/60 [00:00<?, ?it/s]"
      ],
      "application/vnd.jupyter.widget-view+json": {
       "version_major": 2,
       "version_minor": 0,
       "model_id": "cfd7e86d09004dd1a187dcad576f84da"
      }
     },
     "metadata": {},
     "output_type": "display_data"
    },
    {
     "name": "stdout",
     "output_type": "stream",
     "text": [
      "[I 2025-07-18 13:11:18,513] Trial 0 finished with value: 0.05536593186013172 and parameters: {'n_estimators': 700, 'max_depth': 10, 'learning_rate': 0.1618509290001068, 'subsample': 0.8394633936788146, 'colsample_bytree': 0.6624074561769746, 'gamma': 1.5599452033620265, 'min_child_weight': 0.2904180608409973, 'reg_lambda': 8.661761457749352}. Best is trial 0 with value: 0.05536593186013172.\n",
      "[I 2025-07-18 13:11:18,831] Trial 1 finished with value: 0.05543984810469205 and parameters: {'n_estimators': 881, 'max_depth': 8, 'learning_rate': 0.031456163175583855, 'subsample': 0.9879639408647978, 'colsample_bytree': 0.9329770563201687, 'gamma': 2.1233911067827616, 'min_child_weight': 0.9091248360355031, 'reg_lambda': 1.8340450985343382}. Best is trial 0 with value: 0.05536593186013172.\n",
      "[I 2025-07-18 13:11:19,146] Trial 2 finished with value: 0.055364926653338274 and parameters: {'n_estimators': 643, 'max_depth': 7, 'learning_rate': 0.08110848199986004, 'subsample': 0.7164916560792167, 'colsample_bytree': 0.8447411578889518, 'gamma': 1.3949386065204183, 'min_child_weight': 1.4607232426760908, 'reg_lambda': 3.663618432936917}. Best is trial 2 with value: 0.055364926653338274.\n",
      "[I 2025-07-18 13:11:19,447] Trial 3 finished with value: 0.05541532645503213 and parameters: {'n_estimators': 765, 'max_depth': 9, 'learning_rate': 0.04751109467735623, 'subsample': 0.8056937753654446, 'colsample_bytree': 0.836965827544817, 'gamma': 0.46450412719997725, 'min_child_weight': 3.0377242595071916, 'reg_lambda': 1.7052412368729153}. Best is trial 2 with value: 0.055364926653338274.\n",
      "[I 2025-07-18 13:11:19,739] Trial 4 finished with value: 0.05539736253089735 and parameters: {'n_estimators': 452, 'max_depth': 10, 'learning_rate': 0.27717450958881745, 'subsample': 0.9233589392465844, 'colsample_bytree': 0.7218455076693483, 'gamma': 0.9767211400638387, 'min_child_weight': 3.4211651325607844, 'reg_lambda': 4.4015249373960135}. Best is trial 2 with value: 0.055364926653338274.\n",
      "[I 2025-07-18 13:11:20,051] Trial 5 finished with value: 0.055438487962398975 and parameters: {'n_estimators': 497, 'max_depth': 6, 'learning_rate': 0.03247205514450286, 'subsample': 0.9637281608315128, 'colsample_bytree': 0.7035119926400067, 'gamma': 6.62522284353982, 'min_child_weight': 1.5585553804470549, 'reg_lambda': 5.200680211778108}. Best is trial 2 with value: 0.055364926653338274.\n",
      "[I 2025-07-18 13:11:20,350] Trial 6 finished with value: 0.055391082816096844 and parameters: {'n_estimators': 837, 'max_depth': 4, 'learning_rate': 0.27970864055344435, 'subsample': 0.9100531293444458, 'colsample_bytree': 0.9757995766256756, 'gamma': 8.948273504276488, 'min_child_weight': 2.9894998940554256, 'reg_lambda': 9.218742350231167}. Best is trial 2 with value: 0.055364926653338274.\n",
      "[I 2025-07-18 13:11:20,696] Trial 7 finished with value: 0.05540833827997401 and parameters: {'n_estimators': 470, 'max_depth': 4, 'learning_rate': 0.033292663683309284, 'subsample': 0.7301321323053057, 'colsample_bytree': 0.7554709158757928, 'gamma': 2.713490317738959, 'min_child_weight': 4.143687545759647, 'reg_lambda': 3.567533266935893}. Best is trial 2 with value: 0.055364926653338274.\n",
      "[I 2025-07-18 13:11:20,991] Trial 8 finished with value: 0.05544162724901144 and parameters: {'n_estimators': 625, 'max_depth': 7, 'learning_rate': 0.041499749925659864, 'subsample': 0.9208787923016158, 'colsample_bytree': 0.6298202574719083, 'gamma': 9.868869366005173, 'min_child_weight': 3.861223846483287, 'reg_lambda': 1.987156815341724}. Best is trial 2 with value: 0.055364926653338274.\n",
      "[I 2025-07-18 13:11:21,275] Trial 9 finished with value: 0.05536526110609144 and parameters: {'n_estimators': 404, 'max_depth': 9, 'learning_rate': 0.15274907837455656, 'subsample': 0.8916028672163949, 'colsample_bytree': 0.9085081386743783, 'gamma': 0.7404465173409036, 'min_child_weight': 1.7923286427213632, 'reg_lambda': 1.1586905952512971}. Best is trial 2 with value: 0.055364926653338274.\n",
      "[I 2025-07-18 13:11:21,623] Trial 10 finished with value: 0.055381686408428145 and parameters: {'n_estimators': 1093, 'max_depth': 6, 'learning_rate': 0.07012131104833019, 'subsample': 0.6071847502459278, 'colsample_bytree': 0.8277250010609204, 'gamma': 4.430797968007022, 'min_child_weight': 4.798853729727101, 'reg_lambda': 6.668582750825783}. Best is trial 2 with value: 0.055364926653338274.\n",
      "[I 2025-07-18 13:11:21,942] Trial 11 finished with value: 0.05530903689735342 and parameters: {'n_estimators': 595, 'max_depth': 8, 'learning_rate': 0.13420511371815674, 'subsample': 0.7078349435778688, 'colsample_bytree': 0.886588474674238, 'gamma': 3.9895250146553893, 'min_child_weight': 1.9198478359233055, 'reg_lambda': 0.15667504170681212}. Best is trial 11 with value: 0.05530903689735342.\n",
      "[I 2025-07-18 13:11:22,264] Trial 12 finished with value: 0.055361778255286605 and parameters: {'n_estimators': 639, 'max_depth': 7, 'learning_rate': 0.09474354734589267, 'subsample': 0.7136679613485023, 'colsample_bytree': 0.8830466523073962, 'gamma': 3.6323041542035828, 'min_child_weight': 2.0827855813856995, 'reg_lambda': 6.526812002249811}. Best is trial 11 with value: 0.05530903689735342.\n",
      "[I 2025-07-18 13:11:22,598] Trial 13 finished with value: 0.05533731657718081 and parameters: {'n_estimators': 966, 'max_depth': 5, 'learning_rate': 0.1267390246197712, 'subsample': 0.6908556046603515, 'colsample_bytree': 0.8689862647872902, 'gamma': 4.179943624928785, 'min_child_weight': 2.190650837455672, 'reg_lambda': 6.91576321653761}. Best is trial 11 with value: 0.05530903689735342.\n",
      "[I 2025-07-18 13:11:22,942] Trial 14 finished with value: 0.055326684451209585 and parameters: {'n_estimators': 1010, 'max_depth': 5, 'learning_rate': 0.1463358608289119, 'subsample': 0.6386657387337531, 'colsample_bytree': 0.9905101272220788, 'gamma': 6.009812975014163, 'min_child_weight': 2.3105737920056404, 'reg_lambda': 7.380983421262327}. Best is trial 11 with value: 0.05530903689735342.\n",
      "[I 2025-07-18 13:11:23,285] Trial 15 finished with value: 0.05534576175596027 and parameters: {'n_estimators': 1199, 'max_depth': 3, 'learning_rate': 0.19500430984986378, 'subsample': 0.63387238284949, 'colsample_bytree': 0.9756250966173122, 'gamma': 6.590286048089741, 'min_child_weight': 2.5227388238491883, 'reg_lambda': 0.032890008345421606}. Best is trial 11 with value: 0.05530903689735342.\n",
      "[I 2025-07-18 13:11:23,622] Trial 16 finished with value: 0.05530910952499219 and parameters: {'n_estimators': 943, 'max_depth': 5, 'learning_rate': 0.11725699217560992, 'subsample': 0.6595968801681172, 'colsample_bytree': 0.9991190502626813, 'gamma': 5.995018382569195, 'min_child_weight': 0.9448338142061448, 'reg_lambda': 8.06967693284172}. Best is trial 11 with value: 0.05530903689735342.\n",
      "[I 2025-07-18 13:11:23,949] Trial 17 finished with value: 0.055344070437098845 and parameters: {'n_estimators': 549, 'max_depth': 8, 'learning_rate': 0.1135518006729993, 'subsample': 0.7593049216120829, 'colsample_bytree': 0.7891793923383844, 'gamma': 5.569084146162655, 'min_child_weight': 0.06589607190461777, 'reg_lambda': 9.788809821253167}. Best is trial 11 with value: 0.05530903689735342.\n",
      "[I 2025-07-18 13:11:24,290] Trial 18 finished with value: 0.05534625571567098 and parameters: {'n_estimators': 894, 'max_depth': 5, 'learning_rate': 0.06383865022895939, 'subsample': 0.6645518011890013, 'colsample_bytree': 0.933986206149587, 'gamma': 8.139937055778319, 'min_child_weight': 0.6277234413144139, 'reg_lambda': 8.050782764367474}. Best is trial 11 with value: 0.05530903689735342.\n",
      "[I 2025-07-18 13:11:24,611] Trial 19 finished with value: 0.05534941621141592 and parameters: {'n_estimators': 741, 'max_depth': 8, 'learning_rate': 0.19726157991422755, 'subsample': 0.7730982444721965, 'colsample_bytree': 0.9382402949559097, 'gamma': 7.461383098062679, 'min_child_weight': 0.9347298322033073, 'reg_lambda': 5.760837424730957}. Best is trial 11 with value: 0.05530903689735342.\n",
      "[I 2025-07-18 13:11:24,941] Trial 20 finished with value: 0.055338100867203956 and parameters: {'n_estimators': 999, 'max_depth': 3, 'learning_rate': 0.10982564872481128, 'subsample': 0.674533764885899, 'colsample_bytree': 0.7898578309545379, 'gamma': 3.0285564775125033, 'min_child_weight': 1.2133379386288072, 'reg_lambda': 2.896494109167403}. Best is trial 11 with value: 0.05530903689735342.\n",
      "[I 2025-07-18 13:11:25,264] Trial 21 finished with value: 0.055367400562559156 and parameters: {'n_estimators': 1039, 'max_depth': 5, 'learning_rate': 0.14743865123525823, 'subsample': 0.6016668738619029, 'colsample_bytree': 0.9984901537620982, 'gamma': 5.555880274802023, 'min_child_weight': 2.53695334600422, 'reg_lambda': 7.43577475755889}. Best is trial 11 with value: 0.05530903689735342.\n",
      "[I 2025-07-18 13:11:25,589] Trial 22 finished with value: 0.055291916355659144 and parameters: {'n_estimators': 1122, 'max_depth': 4, 'learning_rate': 0.2172366940130137, 'subsample': 0.6455099522501736, 'colsample_bytree': 0.9926917672344127, 'gamma': 5.2522261875779765, 'min_child_weight': 1.9749981710368236, 'reg_lambda': 8.06908092827592}. Best is trial 22 with value: 0.055291916355659144.\n",
      "[I 2025-07-18 13:11:25,910] Trial 23 finished with value: 0.055272473017853575 and parameters: {'n_estimators': 1160, 'max_depth': 4, 'learning_rate': 0.2147878157919229, 'subsample': 0.6491251376212591, 'colsample_bytree': 0.9575187103400484, 'gamma': 4.828001481776513, 'min_child_weight': 1.8379653218834309, 'reg_lambda': 8.4590769252419}. Best is trial 23 with value: 0.055272473017853575.\n",
      "[I 2025-07-18 13:11:26,232] Trial 24 finished with value: 0.05531205697467634 and parameters: {'n_estimators': 1188, 'max_depth': 4, 'learning_rate': 0.21432146962138593, 'subsample': 0.7515308467158118, 'colsample_bytree': 0.9505081239888756, 'gamma': 4.685494520897426, 'min_child_weight': 1.7713547082510355, 'reg_lambda': 5.84417198411303}. Best is trial 23 with value: 0.055272473017853575.\n",
      "[I 2025-07-18 13:11:26,554] Trial 25 finished with value: 0.05531522611017733 and parameters: {'n_estimators': 1123, 'max_depth': 3, 'learning_rate': 0.22709366525143718, 'subsample': 0.688823404182564, 'colsample_bytree': 0.9029259064573443, 'gamma': 3.8068964696952037, 'min_child_weight': 2.7482827116859845, 'reg_lambda': 9.994134940876853}. Best is trial 23 with value: 0.055272473017853575.\n",
      "[I 2025-07-18 13:11:26,882] Trial 26 finished with value: 0.05533057529961773 and parameters: {'n_estimators': 1107, 'max_depth': 4, 'learning_rate': 0.2509088171608785, 'subsample': 0.6347264216551218, 'colsample_bytree': 0.9533488556444156, 'gamma': 5.068944665970761, 'min_child_weight': 1.971101275103095, 'reg_lambda': 8.804841545530799}. Best is trial 23 with value: 0.055272473017853575.\n",
      "[I 2025-07-18 13:11:27,205] Trial 27 finished with value: 0.055387353582165726 and parameters: {'n_estimators': 1144, 'max_depth': 6, 'learning_rate': 0.1760971937487445, 'subsample': 0.8011877398122297, 'colsample_bytree': 0.9111919227765712, 'gamma': 3.2291630204363733, 'min_child_weight': 1.412568987644841, 'reg_lambda': 0.312629114935858}. Best is trial 23 with value: 0.055272473017853575.\n",
      "[I 2025-07-18 13:11:27,534] Trial 28 finished with value: 0.05532009968240518 and parameters: {'n_estimators': 1061, 'max_depth': 9, 'learning_rate': 0.17920736480530702, 'subsample': 0.7023987453755421, 'colsample_bytree': 0.8685028429321318, 'gamma': 6.982902406984827, 'min_child_weight': 3.236880717962093, 'reg_lambda': 4.490069003279981}. Best is trial 23 with value: 0.055272473017853575.\n",
      "[I 2025-07-18 13:11:27,858] Trial 29 finished with value: 0.05530774942150423 and parameters: {'n_estimators': 564, 'max_depth': 10, 'learning_rate': 0.13459895899978122, 'subsample': 0.7381071317845121, 'colsample_bytree': 0.9598661976224322, 'gamma': 4.916253086528561, 'min_child_weight': 1.7008255178036595, 'reg_lambda': 8.284524999463466}. Best is trial 23 with value: 0.055272473017853575.\n",
      "[I 2025-07-18 13:11:28,180] Trial 30 finished with value: 0.05539076295232483 and parameters: {'n_estimators': 723, 'max_depth': 3, 'learning_rate': 0.2291059868297942, 'subsample': 0.8489817519564029, 'colsample_bytree': 0.9787438864664157, 'gamma': 5.2861614155095, 'min_child_weight': 0.6020626181832434, 'reg_lambda': 8.421297472893178}. Best is trial 23 with value: 0.055272473017853575.\n",
      "[I 2025-07-18 13:11:28,509] Trial 31 finished with value: 0.05530555865588991 and parameters: {'n_estimators': 524, 'max_depth': 10, 'learning_rate': 0.1409774169186339, 'subsample': 0.7355855622961766, 'colsample_bytree': 0.9517259951369325, 'gamma': 4.544488954312, 'min_child_weight': 1.8248506345067186, 'reg_lambda': 9.12667866677631}. Best is trial 23 with value: 0.055272473017853575.\n",
      "[I 2025-07-18 13:11:28,830] Trial 32 finished with value: 0.055302235650377556 and parameters: {'n_estimators': 692, 'max_depth': 10, 'learning_rate': 0.16636851716693654, 'subsample': 0.7401215737286695, 'colsample_bytree': 0.9611627194313604, 'gamma': 4.935960487141681, 'min_child_weight': 1.3795537372926543, 'reg_lambda': 9.02760625288129}. Best is trial 23 with value: 0.055272473017853575.\n",
      "[I 2025-07-18 13:11:29,155] Trial 33 finished with value: 0.05534851102123429 and parameters: {'n_estimators': 850, 'max_depth': 10, 'learning_rate': 0.16794415541935387, 'subsample': 0.7809288929222946, 'colsample_bytree': 0.920595635101835, 'gamma': 2.300895305656893, 'min_child_weight': 1.1672376134629951, 'reg_lambda': 9.173767909429301}. Best is trial 23 with value: 0.055272473017853575.\n",
      "[I 2025-07-18 13:11:29,469] Trial 34 finished with value: 0.05538477472667355 and parameters: {'n_estimators': 680, 'max_depth': 9, 'learning_rate': 0.29881668321373145, 'subsample': 0.8230080488698222, 'colsample_bytree': 0.9648979097278619, 'gamma': 4.527088070376284, 'min_child_weight': 0.5195106228811748, 'reg_lambda': 9.397414913804228}. Best is trial 23 with value: 0.055272473017853575.\n",
      "[I 2025-07-18 13:11:29,800] Trial 35 finished with value: 0.055400951219457185 and parameters: {'n_estimators': 801, 'max_depth': 10, 'learning_rate': 0.09323644686504946, 'subsample': 0.8502134591678125, 'colsample_bytree': 0.9364839900604165, 'gamma': 3.5007612109489217, 'min_child_weight': 1.3342511794275442, 'reg_lambda': 7.431246362269302}. Best is trial 23 with value: 0.055272473017853575.\n",
      "[I 2025-07-18 13:11:30,135] Trial 36 finished with value: 0.05525642627556581 and parameters: {'n_estimators': 674, 'max_depth': 9, 'learning_rate': 0.25818775345412853, 'subsample': 0.6553003831658354, 'colsample_bytree': 0.8249093758795647, 'gamma': 6.090639884493466, 'min_child_weight': 2.343440170715575, 'reg_lambda': 8.845294629612757}. Best is trial 36 with value: 0.05525642627556581.\n",
      "[I 2025-07-18 13:11:30,449] Trial 37 finished with value: 0.05525589365218538 and parameters: {'n_estimators': 692, 'max_depth': 9, 'learning_rate': 0.24733542361315927, 'subsample': 0.6466159126918465, 'colsample_bytree': 0.6862796554086115, 'gamma': 5.9776300271609415, 'min_child_weight': 2.806408561130509, 'reg_lambda': 7.820060355688097}. Best is trial 37 with value: 0.05525589365218538.\n",
      "[I 2025-07-18 13:11:30,763] Trial 38 finished with value: 0.05526765602347213 and parameters: {'n_estimators': 782, 'max_depth': 9, 'learning_rate': 0.25323972425514757, 'subsample': 0.6511858689350245, 'colsample_bytree': 0.7064691331817388, 'gamma': 7.67415232482295, 'min_child_weight': 2.788133671612727, 'reg_lambda': 7.717847197239194}. Best is trial 37 with value: 0.05525589365218538.\n",
      "[I 2025-07-18 13:11:31,054] Trial 39 finished with value: 0.05532022444082507 and parameters: {'n_estimators': 800, 'max_depth': 9, 'learning_rate': 0.2591635871594085, 'subsample': 0.6177218363347183, 'colsample_bytree': 0.6750708357769896, 'gamma': 7.990530594413005, 'min_child_weight': 3.6709053631835866, 'reg_lambda': 6.05715724030301}. Best is trial 37 with value: 0.05525589365218538.\n",
      "[I 2025-07-18 13:11:31,383] Trial 40 finished with value: 0.05531395091226407 and parameters: {'n_estimators': 766, 'max_depth': 9, 'learning_rate': 0.2597193977302556, 'subsample': 0.6808364960998584, 'colsample_bytree': 0.6019130026110682, 'gamma': 8.775000506973965, 'min_child_weight': 2.82684412180592, 'reg_lambda': 7.5844284575790795}. Best is trial 37 with value: 0.05525589365218538.\n",
      "[I 2025-07-18 13:11:31,705] Trial 41 finished with value: 0.05527227210053015 and parameters: {'n_estimators': 689, 'max_depth': 8, 'learning_rate': 0.20929660748812587, 'subsample': 0.6520569716544202, 'colsample_bytree': 0.7415258618936124, 'gamma': 6.274781111950649, 'min_child_weight': 2.4037663383473555, 'reg_lambda': 7.975015889710508}. Best is trial 37 with value: 0.05525589365218538.\n",
      "[I 2025-07-18 13:11:32,027] Trial 42 finished with value: 0.055252393066741116 and parameters: {'n_estimators': 673, 'max_depth': 8, 'learning_rate': 0.2962050664717899, 'subsample': 0.6608274829882659, 'colsample_bytree': 0.7237548839127307, 'gamma': 6.313849208188694, 'min_child_weight': 3.221014793279503, 'reg_lambda': 6.9907555560955155}. Best is trial 42 with value: 0.055252393066741116.\n",
      "[I 2025-07-18 13:11:32,348] Trial 43 finished with value: 0.055351517872742895 and parameters: {'n_estimators': 667, 'max_depth': 8, 'learning_rate': 0.29153139000802586, 'subsample': 0.6226941635224437, 'colsample_bytree': 0.7316922832041841, 'gamma': 6.685135724499676, 'min_child_weight': 3.2480630373815904, 'reg_lambda': 7.002437153887252}. Best is trial 42 with value: 0.055252393066741116.\n",
      "[I 2025-07-18 13:11:32,681] Trial 44 finished with value: 0.055258893123996344 and parameters: {'n_estimators': 592, 'max_depth': 7, 'learning_rate': 0.247665342385138, 'subsample': 0.6622888045212691, 'colsample_bytree': 0.6877477849988307, 'gamma': 7.345422683235106, 'min_child_weight': 3.628722558295464, 'reg_lambda': 5.197957750538115}. Best is trial 42 with value: 0.055252393066741116.\n",
      "[I 2025-07-18 13:11:33,002] Trial 45 finished with value: 0.055286506745201434 and parameters: {'n_estimators': 611, 'max_depth': 7, 'learning_rate': 0.24670598182360637, 'subsample': 0.6690456998561312, 'colsample_bytree': 0.6989075089027524, 'gamma': 7.486415077618008, 'min_child_weight': 4.224369347286933, 'reg_lambda': 5.141726429516643}. Best is trial 42 with value: 0.055252393066741116.\n",
      "[I 2025-07-18 13:11:33,324] Trial 46 finished with value: 0.055333585372983995 and parameters: {'n_estimators': 574, 'max_depth': 9, 'learning_rate': 0.27272349010954583, 'subsample': 0.6951460764883302, 'colsample_bytree': 0.6675191740141614, 'gamma': 7.2582932585697275, 'min_child_weight': 3.6264332817930747, 'reg_lambda': 4.596894043462894}. Best is trial 42 with value: 0.055252393066741116.\n",
      "[I 2025-07-18 13:11:33,662] Trial 47 finished with value: 0.055293512169129734 and parameters: {'n_estimators': 653, 'max_depth': 7, 'learning_rate': 0.29758374036912205, 'subsample': 0.7179211489756265, 'colsample_bytree': 0.7689936856724809, 'gamma': 8.550266228457435, 'min_child_weight': 4.142613735819434, 'reg_lambda': 6.222759293103676}. Best is trial 42 with value: 0.055252393066741116.\n",
      "[I 2025-07-18 13:11:33,948] Trial 48 finished with value: 0.05541792749928464 and parameters: {'n_estimators': 729, 'max_depth': 8, 'learning_rate': 0.24051498326727816, 'subsample': 0.9684993226684657, 'colsample_bytree': 0.7008257194898042, 'gamma': 8.072770077841254, 'min_child_weight': 3.0047923882443377, 'reg_lambda': 3.8608603511325885}. Best is trial 42 with value: 0.055252393066741116.\n",
      "[I 2025-07-18 13:11:34,273] Trial 49 finished with value: 0.055318644335661915 and parameters: {'n_estimators': 768, 'max_depth': 9, 'learning_rate': 0.27470950337150607, 'subsample': 0.6162225550267342, 'colsample_bytree': 0.8231483824336143, 'gamma': 9.548214193372484, 'min_child_weight': 2.7006126688122523, 'reg_lambda': 5.616787381338312}. Best is trial 42 with value: 0.055252393066741116.\n",
      "[I 2025-07-18 13:11:34,605] Trial 50 finished with value: 0.05532845750645817 and parameters: {'n_estimators': 492, 'max_depth': 9, 'learning_rate': 0.19368932944512604, 'subsample': 0.6746066919173441, 'colsample_bytree': 0.6470558944266291, 'gamma': 6.164032882938858, 'min_child_weight': 3.2695408410191917, 'reg_lambda': 6.542208633555102}. Best is trial 42 with value: 0.055252393066741116.\n",
      "[I 2025-07-18 13:11:34,926] Trial 51 finished with value: 0.055269453406191944 and parameters: {'n_estimators': 622, 'max_depth': 8, 'learning_rate': 0.20274919841202352, 'subsample': 0.6554594628436226, 'colsample_bytree': 0.7297733133283588, 'gamma': 6.341541072162513, 'min_child_weight': 2.2648648846984947, 'reg_lambda': 7.6719855218157225}. Best is trial 42 with value: 0.055252393066741116.\n",
      "[I 2025-07-18 13:11:35,260] Trial 52 finished with value: 0.05534067554726659 and parameters: {'n_estimators': 626, 'max_depth': 8, 'learning_rate': 0.23586347427093496, 'subsample': 0.6307415693065912, 'colsample_bytree': 0.7137870349268355, 'gamma': 7.047411111733627, 'min_child_weight': 3.4749659972547913, 'reg_lambda': 6.968747074655437}. Best is trial 42 with value: 0.055252393066741116.\n",
      "[I 2025-07-18 13:11:35,580] Trial 53 finished with value: 0.05527606666570612 and parameters: {'n_estimators': 644, 'max_depth': 7, 'learning_rate': 0.19483118846931166, 'subsample': 0.6568019836783472, 'colsample_bytree': 0.6909553171073891, 'gamma': 5.810188511610738, 'min_child_weight': 2.9227548054837693, 'reg_lambda': 7.733763448463333}. Best is trial 42 with value: 0.055252393066741116.\n",
      "[I 2025-07-18 13:11:35,902] Trial 54 finished with value: 0.055284198881295404 and parameters: {'n_estimators': 602, 'max_depth': 8, 'learning_rate': 0.25877312418582593, 'subsample': 0.7092190233806231, 'colsample_bytree': 0.7528073493729865, 'gamma': 6.5652515271765495, 'min_child_weight': 3.8966213628152673, 'reg_lambda': 8.656570471837627}. Best is trial 42 with value: 0.055252393066741116.\n",
      "[I 2025-07-18 13:11:36,254] Trial 55 finished with value: 0.055371924091175494 and parameters: {'n_estimators': 711, 'max_depth': 8, 'learning_rate': 0.06179256227082792, 'subsample': 0.6029700460325028, 'colsample_bytree': 0.6417892565926991, 'gamma': 6.456042617276755, 'min_child_weight': 2.2260192671106824, 'reg_lambda': 7.139385330679376}. Best is trial 42 with value: 0.055252393066741116.\n",
      "[I 2025-07-18 13:11:36,594] Trial 56 finished with value: 0.05537304266391476 and parameters: {'n_estimators': 523, 'max_depth': 7, 'learning_rate': 0.04469345862455077, 'subsample': 0.64122262180205, 'colsample_bytree': 0.6843775287044991, 'gamma': 7.677034797609455, 'min_child_weight': 2.6398281312289136, 'reg_lambda': 9.466621400083241}. Best is trial 42 with value: 0.055252393066741116.\n",
      "[I 2025-07-18 13:11:36,945] Trial 57 finished with value: 0.05531505785899319 and parameters: {'n_estimators': 809, 'max_depth': 8, 'learning_rate': 0.2779041088599253, 'subsample': 0.6839015481276285, 'colsample_bytree': 0.7139436316538931, 'gamma': 6.939741166926016, 'min_child_weight': 3.1545718969053835, 'reg_lambda': 6.678769547723351}. Best is trial 42 with value: 0.055252393066741116.\n",
      "[I 2025-07-18 13:11:37,268] Trial 58 finished with value: 0.05528133239458708 and parameters: {'n_estimators': 750, 'max_depth': 9, 'learning_rate': 0.18820362793916443, 'subsample': 0.6609853617248449, 'colsample_bytree': 0.8121033381129764, 'gamma': 5.792634341652339, 'min_child_weight': 2.4275377885191336, 'reg_lambda': 2.5989962603570254}. Best is trial 42 with value: 0.055252393066741116.\n",
      "[I 2025-07-18 13:11:37,587] Trial 59 finished with value: 0.05537851971590974 and parameters: {'n_estimators': 450, 'max_depth': 7, 'learning_rate': 0.2286568005743697, 'subsample': 0.6191254447257527, 'colsample_bytree': 0.7646949393948328, 'gamma': 7.810112690676875, 'min_child_weight': 4.5192394316300915, 'reg_lambda': 7.882405328818805}. Best is trial 42 with value: 0.055252393066741116.\n"
     ]
    },
    {
     "data": {
      "text/plain": [
       "['../models/best_params.pkl']"
      ]
     },
     "execution_count": 178,
     "metadata": {},
     "output_type": "execute_result"
    }
   ],
   "execution_count": 178
  },
  {
   "metadata": {
    "ExecuteTime": {
     "end_time": "2025-07-18T17:11:41.153759Z",
     "start_time": "2025-07-18T17:11:37.647431Z"
    }
   },
   "cell_type": "code",
   "source": [
    "# ─── 7. WALK-FORWARD LOOP (β-NEUTRAL, VOL-TARGETED) ───\n",
    "target_5d_vol = TARGET_VOL / math.sqrt(252 / HORIZON)\n",
    "records: List[Tuple[dt.date, float, float, float]] = []\n",
    "\n",
    "bench_col = next(\n",
    "    (c for c in df.columns if any(k in c.lower() for k in [\"sp500\", \"nasdaq\", \"ndx\", \"spx\"]) and \"_lag1\" not in c.lower()),\n",
    "    None\n",
    ")\n",
    "\n",
    "for start in range(0, len(df) - TRAIN_WD - TEST_WD + 1, STEP):\n",
    "    train = df.iloc[start: start + TRAIN_WD]\n",
    "    test  = df.iloc[start + TRAIN_WD: start + TRAIN_WD + TEST_WD]\n",
    "\n",
    "    X_tr, y_tr = train[feature_cols].values, train[\"y\"].values\n",
    "    model = XGBRegressor(**params_best, objective=\"reg:squarederror\", tree_method=\"hist\", device=\"cuda\", random_state=SEED)\n",
    "    model.fit(X_tr, y_tr)\n",
    "\n",
    "    y_hat = model.predict(test[feature_cols].values)\n",
    "    y_hat_train = model.predict(X_tr)  # For quantile-based filter\n",
    "\n",
    "    # --- STRONGER CONVICTION FILTER (Quantile, Top/Bottom 5%) ---\n",
    "    PCTL = 0.05\n",
    "    thr = np.quantile(np.abs(y_hat_train), PCTL)\n",
    "    raw_pos = np.sign(y_hat)\n",
    "    raw_pos[np.abs(y_hat) < thr] = 0\n",
    "\n",
    "    # --- β-HEDGE (market neutrality) ---\n",
    "    if bench_col:\n",
    "        r_bmk = np.log(train[bench_col].shift(-HORIZON) / train[bench_col]).dropna()\n",
    "        r_ast = np.log(train[\"Close\"].shift(-HORIZON) / train[\"Close\"]).dropna()\n",
    "        beta_hat = (np.cov(r_bmk.align(r_ast)[0], r_ast.align(r_bmk)[0])[0, 1] / r_bmk.var()) if r_bmk.var() else 0.0\n",
    "    else:\n",
    "        beta_hat = 0.0\n",
    "    beta_hat *= BETA_SHRINK\n",
    "\n",
    "    excess_hist = (r_ast - beta_hat * r_bmk) if bench_col else r_ast\n",
    "    sigma_5d    = excess_hist.std(ddof=1)\n",
    "    scale       = target_5d_vol / sigma_5d if sigma_5d > 0 else 1.0\n",
    "\n",
    "    # --- POSITION SIZING & ENFORCE EXIT ---\n",
    "    pos_scaled  = np.clip(raw_pos * scale, -LEVER_CAP, LEVER_CAP)\n",
    "    enter_idx = test.index[::HORIZON]\n",
    "    exit_idx  = enter_idx + pd.Timedelta(days=HORIZON)\n",
    "    pos_enter = pd.Series(pos_scaled[::HORIZON], index=enter_idx)\n",
    "    pos_exit  = pd.Series(0.0, index=exit_idx)\n",
    "    positions = (\n",
    "        pd.concat([pos_enter, pos_exit])\n",
    "          .sort_index()\n",
    "          .reindex(test.index, method=\"ffill\")\n",
    "          .fillna(0.0)\n",
    "    )\n",
    "\n",
    "    # --- RETURNS CALCULATION ---\n",
    "    asset_ret   = np.log(test[\"Close\"].shift(-HORIZON) / test[\"Close\"])\n",
    "    bmk_ret     = (np.log(test[bench_col].shift(-HORIZON) / test[bench_col]) if bench_col else pd.Series(0.0, index=asset_ret.index))\n",
    "    excess_ret  = asset_ret - beta_hat * bmk_ret\n",
    "\n",
    "    records.extend(list(zip(asset_ret.index, positions.values, excess_ret.values, bmk_ret.values)))\n",
    "\n",
    "# --- Build DataFrame with Results ---\n",
    "pred_df = pd.DataFrame(records, columns=[\"date\", \"pos\", \"excess_ret\", \"bmk_ret\"]).set_index(\"date\")\n",
    "\n",
    "# --- Turnover & Transaction Cost Calculation ---\n",
    "turnover_series = pred_df[\"pos\"].diff().abs()\n",
    "turnover_series.iloc[0] = pred_df[\"pos\"].abs().iloc[0]\n",
    "turnover = turnover_series.mean()\n",
    "trade_count = (turnover_series > 0).sum()\n",
    "fric = TR_COST * turnover_series\n",
    "strat_ret = pred_df[\"pos\"] * pred_df[\"excess_ret\"] - fric"
   ],
   "id": "61fced8f3cc58750",
   "outputs": [],
   "execution_count": 179
  },
  {
   "metadata": {},
   "cell_type": "markdown",
   "source": "### Analysis",
   "id": "220d22424da87849"
  },
  {
   "metadata": {
    "ExecuteTime": {
     "end_time": "2025-07-18T17:11:41.204990Z",
     "start_time": "2025-07-18T17:11:41.199057Z"
    }
   },
   "cell_type": "code",
   "source": [
    "# ────────────── 8. METRICS AND BOOTSTRAP ──────────────\n",
    "ann_factor = 252 / HORIZON\n",
    "geom_ret = np.exp(np.log1p(strat_ret).sum() * ann_factor / len(strat_ret)) - 1\n",
    "ann_mu   = strat_ret.mean() * ann_factor\n",
    "ann_vol  = strat_ret.std(ddof=1) * math.sqrt(ann_factor)\n",
    "sharpe   = (ann_mu - RISK_FREE) / ann_vol if ann_vol else np.nan\n",
    "\n",
    "# Downside volatility & Sortino ratio\n",
    "neg = strat_ret[strat_ret < 0]\n",
    "sortino = (ann_mu - RISK_FREE) / (neg.std(ddof=1) * math.sqrt(ann_factor)) if len(neg) else np.nan\n",
    "\n",
    "# Drawdown & Calmar ratio\n",
    "cum_eq = (1 + strat_ret).cumprod()\n",
    "rolling_max = cum_eq.cummax()\n",
    "dd = cum_eq / rolling_max - 1\n",
    "max_dd = dd.min()\n",
    "calmar = ann_mu / abs(max_dd) if max_dd < 0 else np.nan\n",
    "\n",
    "# Information ratio (vs benchmark)\n",
    "excess = strat_ret - pred_df[\"bmk_ret\"]\n",
    "ir = excess.mean() / excess.std(ddof=1) if excess.std(ddof=1) else np.nan\n",
    "\n",
    "# Directional accuracy\n",
    "hit = (np.sign(pred_df[\"pos\"] * pred_df[\"excess_ret\"]) > 0).mean()"
   ],
   "id": "a12d2096db4fe75b",
   "outputs": [],
   "execution_count": 180
  },
  {
   "metadata": {
    "ExecuteTime": {
     "end_time": "2025-07-18T17:11:41.257543Z",
     "start_time": "2025-07-18T17:11:41.250410Z"
    }
   },
   "cell_type": "code",
   "source": [
    "# --- Bootstrapped confidence intervals for metrics ---\n",
    "def bootstrap_metric(metric_fn, returns, n_boot=1000):\n",
    "    returns = np.asarray(returns[~np.isnan(returns)])\n",
    "    stats = []\n",
    "    for _ in range(n_boot):\n",
    "        sample = np.random.choice(returns, size=len(returns), replace=True)\n",
    "        val = metric_fn(sample)\n",
    "        if not np.isnan(val) and np.isfinite(val):\n",
    "            stats.append(val)\n",
    "    return np.mean(stats), np.std(stats, ddof=1)\n",
    "\n",
    "def sharpe_fn(ret):\n",
    "    m = np.mean(ret) * ann_factor\n",
    "    v = np.std(ret, ddof=1) * np.sqrt(ann_factor)\n",
    "    return (m - RISK_FREE) / v if v > 0 else np.nan\n",
    "\n",
    "def sortino_fn(ret):\n",
    "    m = np.mean(ret) * ann_factor\n",
    "    neg = ret[ret < 0]\n",
    "    v = np.std(neg, ddof=1) * np.sqrt(ann_factor)\n",
    "    return (m - RISK_FREE) / v if v > 0 else np.nan\n",
    "\n",
    "def calmar_fn(ret):\n",
    "    ret = pd.Series(ret)\n",
    "    eq = (1 + ret).cumprod()\n",
    "    rolling_max = eq.cummax()\n",
    "    dd = eq / rolling_max - 1\n",
    "    mdd = dd.min()\n",
    "    mu = np.mean(ret) * ann_factor\n",
    "    return mu / abs(mdd) if mdd < 0 else np.nan\n",
    "\n",
    "def hit_fn(ret):\n",
    "    return (np.sign(ret) > 0).mean()\n",
    "\n",
    "# --- Moving-block bootstrap for Sharpe ratio ---\n",
    "def block_bootstrap(returns, block_size, n_boot=1000):\n",
    "    N = len(returns)\n",
    "    stats = []\n",
    "    for _ in range(n_boot):\n",
    "        idx = np.random.randint(0, N - block_size + 1, N // block_size)\n",
    "        sample = np.concatenate([returns[i:i+block_size] for i in idx])\n",
    "        stats.append(sharpe_fn(sample[:N]))\n",
    "    return np.array(stats)"
   ],
   "id": "e1252d12e5bef072",
   "outputs": [],
   "execution_count": 181
  },
  {
   "metadata": {
    "ExecuteTime": {
     "end_time": "2025-07-18T17:11:41.562634Z",
     "start_time": "2025-07-18T17:11:41.295160Z"
    }
   },
   "cell_type": "code",
   "source": [
    "sharpe_mu, sharpe_se = bootstrap_metric(sharpe_fn, strat_ret.values)\n",
    "sortino_mu, sortino_se = bootstrap_metric(sortino_fn, strat_ret.values)\n",
    "calmar_mu, calmar_se = bootstrap_metric(calmar_fn, strat_ret.values)\n",
    "hit_mu, hit_se = bootstrap_metric(hit_fn, (pred_df[\"pos\"] * pred_df[\"excess_ret\"]).values)\n",
    "\n",
    "clean_ret = strat_ret.dropna().values\n",
    "BLOCK = int(np.sqrt(len(clean_ret)))\n",
    "sharpe_dist = block_bootstrap(clean_ret, block_size=BLOCK)\n",
    "sharpe_dist = sharpe_dist[np.isfinite(sharpe_dist)]\n",
    "reality_p = (sharpe_dist > 3).mean()\n",
    "\n",
    "# --- Residual β and CI via OLS regression ---\n",
    "mask_beta = pred_df[\"bmk_ret\"].abs() > 0\n",
    "Xb = pred_df.loc[mask_beta, \"bmk_ret\"]\n",
    "yb = strat_ret[mask_beta]\n",
    "if len(Xb) > 1 and Xb.var() > 0:\n",
    "    Xc = sm.add_constant(Xb)\n",
    "    model = sm.OLS(yb, Xc).fit()\n",
    "    resid_beta = model.params[1]\n",
    "    resid_beta_ci = model.conf_int().loc[\"bmk_ret\"].values\n",
    "else:\n",
    "    resid_beta, resid_beta_ci = np.nan, (np.nan, np.nan)\n",
    "\n",
    "# --- Pesaran-Timmermann p-value (significance of direction accuracy) ---\n",
    "try:\n",
    "    import scipy.stats as sts\n",
    "    n = len(pred_df)\n",
    "    pt_num = (hit - 0.5) * math.sqrt(n)\n",
    "    pt_p = 2 * (1 - sts.norm.cdf(abs(pt_num)))\n",
    "except Exception:\n",
    "    pt_p = np.nan"
   ],
   "id": "8c95287a6fbc395c",
   "outputs": [],
   "execution_count": 182
  },
  {
   "metadata": {
    "ExecuteTime": {
     "end_time": "2025-07-18T17:11:41.603896Z",
     "start_time": "2025-07-18T17:11:41.595613Z"
    }
   },
   "cell_type": "code",
   "source": [
    "# --- PRINT SUMMARY ---\n",
    "print(\"================ WALK-FORWARD SUMMARY ================\")\n",
    "print(f\"Trades                  : {trade_count}\")\n",
    "if trade_count < 20:\n",
    "    print(\"⚠️  WARNING: < 20 trades — all performance stats are extremely noisy and unreliable.\")\n",
    "print(f\"Geometric ann. return   : {geom_ret:.2%}\")\n",
    "print(f\"Annual volatility       : {ann_vol:.2%}\")\n",
    "print(f\"Sharpe ratio            : {sharpe:.2f} ± {sharpe_se:.2f}\")\n",
    "print(f\"Sortino ratio           : {sortino:.2f} ± {sortino_se:.2f}\")\n",
    "print(f\"Calmar ratio            : {calmar:.2f} ± {calmar_se:.2f}  (max DD {max_dd:.2%})\")\n",
    "print(f\"Information ratio (μ/σ) : {ir:.2f}\")\n",
    "print(f\"Direction accuracy      : {hit:.2%} ± {hit_se:.2%}  (PT p={pt_p:.3g})\")\n",
    "print(f\"Turnover                : {turnover:.2f}\")\n",
    "print(f\"Residual beta           : {resid_beta:.2f}   CI: [{resid_beta_ci[0]:.2f}, {resid_beta_ci[1]:.2f}]\")\n",
    "print(f\"Block-bootstrap: Sharpe > 3 in {reality_p*100:.1f}% of bootstraps.\")\n",
    "\n",
    "# --- SAVE METRICS FOR AUDIT TRAIL ---\n",
    "metrics = {\n",
    "    \"geom_ret\": float(geom_ret),\n",
    "    \"ann_vol\": float(ann_vol),\n",
    "    \"sharpe\": float(sharpe), \"sharpe_se\": float(sharpe_se),\n",
    "    \"sortino\": float(sortino), \"sortino_se\": float(sortino_se),\n",
    "    \"calmar\": float(calmar), \"calmar_se\": float(calmar_se),\n",
    "    \"ir\": float(ir),\n",
    "    \"hit\": float(hit), \"hit_se\": float(hit_se),\n",
    "    \"turnover\": float(turnover),\n",
    "    \"resid_beta\": float(resid_beta),\n",
    "    \"resid_beta_ci\": [float(x) for x in resid_beta_ci],\n",
    "    \"trade_count\": int(trade_count),\n",
    "    \"max_dd\": float(max_dd),\n",
    "    \"sharpe_bootstrap_dist\": sharpe_dist.tolist(),\n",
    "    \"reality_sharpe_gt3_pct\": float(reality_p),\n",
    "}\n",
    "with open(f\"{MODEL_DIR}/walkforward_metrics.json\", \"w\") as fp:\n",
    "    json.dump(metrics, fp, indent=2)"
   ],
   "id": "a50c1473ea329fc1",
   "outputs": [
    {
     "name": "stdout",
     "output_type": "stream",
     "text": [
      "================ WALK-FORWARD SUMMARY ================\n",
      "Trades                  : 124\n",
      "Geometric ann. return   : 62.79%\n",
      "Annual volatility       : 9.88%\n",
      "Sharpe ratio            : 5.72 ± 0.49\n",
      "Sortino ratio           : 9.84 ± 2.62\n",
      "Calmar ratio            : 8.99 ± 4.22  (max DD -6.28%)\n",
      "Information ratio (μ/σ) : 0.01\n",
      "Direction accuracy      : 60.56% ± 2.61%  (PT p=0.0452)\n",
      "Turnover                : 0.12\n",
      "Residual beta           : 0.09   CI: [0.04, 0.14]\n",
      "Block-bootstrap: Sharpe > 3 in 100.0% of bootstraps.\n"
     ]
    }
   ],
   "execution_count": 183
  },
  {
   "metadata": {
    "ExecuteTime": {
     "end_time": "2025-07-18T17:11:41.644540Z",
     "start_time": "2025-07-18T17:11:41.637490Z"
    }
   },
   "cell_type": "code",
   "source": [
    "# ───────────── 9. STRESS TESTS ─────────────\n",
    "print(\"\\n[STRESS‑TESTS]\")\n",
    "bear_mask = (pred_df.index >= \"2022-04-01\") & (pred_df.index <= \"2022-06-30\")\n",
    "if bear_mask.any():\n",
    "    bear_acc = (np.sign(pred_df.loc[bear_mask, \"pos\"] * pred_df.loc[bear_mask, \"excess_ret\"]) > 0).mean()\n",
    "    print(f\"DirAcc 2022‑Q2 bear   : {bear_acc:.2%}\")\n",
    "\n",
    "if {\"Open\", \"Close\"}.issubset(df.columns):\n",
    "    gap = np.abs((df[\"Open\"] - df[\"Close\"].shift(1)) / df[\"Close\"].shift(1))\n",
    "    gap_days = gap.loc[pred_df.index] > 0.02\n",
    "    if gap_days.any():\n",
    "        gap_acc = (np.sign(pred_df.loc[gap_days, \"pos\"] * pred_df.loc[gap_days, \"excess_ret\"]) > 0).mean()\n",
    "        print(f\"DirAcc gap >2%        : {gap_acc:.2%}\")\n",
    "\n",
    "atr20 = df[\"atr_14\"].quantile(0.2)\n",
    "low_vol = (df[\"atr_14\"] < atr20).loc[pred_df.index]\n",
    "if low_vol.any():\n",
    "    low_acc = (np.sign(pred_df.loc[low_vol, \"pos\"] * pred_df.loc[low_vol, \"excess_ret\"]) > 0).mean()\n",
    "    print(f\"DirAcc low‑ATR        : {low_acc:.2%}\")\n"
   ],
   "id": "511e44d5c76d11ba",
   "outputs": [
    {
     "name": "stdout",
     "output_type": "stream",
     "text": [
      "\n",
      "[STRESS‑TESTS]\n",
      "DirAcc gap >2%        : 57.33%\n"
     ]
    }
   ],
   "execution_count": 184
  },
  {
   "metadata": {
    "ExecuteTime": {
     "end_time": "2025-07-18T17:11:41.805374Z",
     "start_time": "2025-07-18T17:11:41.677600Z"
    }
   },
   "cell_type": "code",
   "source": [
    "# ───────────── 10. PLOT EQUITY CURVE ─────────────\n",
    "plt.style.use(\"dark_background\")\n",
    "fig, ax = plt.subplots(figsize=(10, 4))\n",
    "ax.plot(cum_eq.index, cum_eq - 1, label=\"Strategy\")\n",
    "ax.plot((1 + pred_df[\"bmk_ret\"]).cumprod().index, (1 + pred_df[\"bmk_ret\"]).cumprod() - 1, label=\"Benchmark\")\n",
    "ax.set_title(\"Leak‑Free Walk‑Forward Back‑test (Net of Friction)\")\n",
    "ax.legend()\n",
    "fig.tight_layout()\n",
    "plt.savefig(f\"{MODEL_DIR}/equity_curve.png\", dpi=150)\n",
    "plt.close()\n"
   ],
   "id": "588c9933129d6d41",
   "outputs": [],
   "execution_count": 185
  },
  {
   "metadata": {},
   "cell_type": "markdown",
   "source": "### Model Saving",
   "id": "5cb8c6134f7852ab"
  },
  {
   "metadata": {
    "ExecuteTime": {
     "end_time": "2025-07-18T17:11:42.189102Z",
     "start_time": "2025-07-18T17:11:41.837258Z"
    }
   },
   "cell_type": "code",
   "source": [
    "# ───────────── 11. SAVE FINAL MODEL ─────────────\n",
    "full_X, full_y = df[feature_cols].values, df[\"y\"].values\n",
    "final_model = XGBRegressor(**params_best, objective=\"reg:squarederror\", tree_method=\"hist\", device=\"cuda\", random_state=SEED)\n",
    "final_model.fit(full_X, full_y)\n",
    "joblib.dump(final_model, f\"{MODEL_DIR}/rblx_xgb_5d_walkforward.pkl\")\n",
    "print(f\"\\n✅  Final model & metrics stored in '{MODEL_DIR}/'\\n\")"
   ],
   "id": "d01fab196d46b3cf",
   "outputs": [
    {
     "name": "stdout",
     "output_type": "stream",
     "text": [
      "\n",
      "✅  Final model & metrics stored in '../models/'\n",
      "\n"
     ]
    }
   ],
   "execution_count": 186
  }
 ],
 "metadata": {
  "kernelspec": {
   "display_name": "Python 3",
   "language": "python",
   "name": "python3"
  },
  "language_info": {
   "codemirror_mode": {
    "name": "ipython",
    "version": 2
   },
   "file_extension": ".py",
   "mimetype": "text/x-python",
   "name": "python",
   "nbconvert_exporter": "python",
   "pygments_lexer": "ipython2",
   "version": "2.7.6"
  }
 },
 "nbformat": 4,
 "nbformat_minor": 5
}
