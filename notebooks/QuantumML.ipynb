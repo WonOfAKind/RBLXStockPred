{
 "cells": [
  {
   "metadata": {},
   "cell_type": "markdown",
   "source": [
    "## Quantum Model Version: Fidelity Quantum Kernel Ridge\n",
    "\n",
    "- This notebook contains my steps on creating the most optimal model for the quantum version of this. \n",
    "- The goal for the model is to find the next day % return of RBLX stock.\n",
    "\n",
    "Why RBLX? well, I grew up playing roblox and I also have shares invested in roblox lol"
   ],
   "id": "2bbffba1848fbb7e"
  },
  {
   "metadata": {},
   "cell_type": "markdown",
   "source": "### Data and feature pipelining",
   "id": "c30a83abadddd599"
  },
  {
   "metadata": {
    "ExecuteTime": {
     "end_time": "2025-06-25T04:27:34.863182Z",
     "start_time": "2025-06-25T04:27:34.788275Z"
    }
   },
   "cell_type": "code",
   "source": [
    "# ───────────────────────────────── Imports ────────────────────────────────────\n",
    "import math\n",
    "import numpy as np\n",
    "import pandas as pd\n",
    "\n",
    "from sklearn.model_selection import train_test_split\n",
    "from sklearn.preprocessing import StandardScaler\n",
    "from sklearn.metrics import mean_absolute_error, root_mean_squared_error\n",
    "from sklearn.decomposition import PCA\n",
    "\n",
    "# ─── quantum stack ────────────────────────────────────────────\n",
    "from qiskit_aer import Aer                              # simulators\n",
    "from qiskit_algorithms.utils import algorithm_globals    # RNG / seed\n",
    "from qiskit.circuit.library import ZZFeatureMap\n",
    "from qiskit_machine_learning.kernels import FidelityStatevectorKernel\n",
    "from sklearn.kernel_ridge import KernelRidge             # classical par\n",
    "from qiskit_aer.primitives import Sampler                    # BaseSampler V1 ✓  :contentReference[oaicite:0]{index=0}\n",
    "from torch.utils.data import DataLoader, TensorDataset\n",
    "from torch.optim import Adam\n",
    "\n",
    "\n",
    "# PennyLane\n",
    "import pennylane as qml\n",
    "import torch\n",
    "from torch.optim import Adam\n",
    "\n",
    "# Technical indicators\n",
    "import ta  # pip install ta\n"
   ],
   "id": "23a53102b8900b4",
   "outputs": [],
   "execution_count": 39
  },
  {
   "metadata": {
    "ExecuteTime": {
     "end_time": "2025-06-25T04:27:34.952142Z",
     "start_time": "2025-06-25T04:27:34.872438Z"
    }
   },
   "cell_type": "code",
   "source": [
    "# ─────────────────────────── Configuration ────────────────────────────\n",
    "CONFIG = dict(\n",
    "    seed            = 7,\n",
    "    window          = 5,        # look-back days\n",
    "    test_size       = 0.2,\n",
    "    target          = \"return\", # \"return\" | \"close\"\n",
    "    scaler          = StandardScaler(),\n",
    "    n_qubits        = 6,        # keep small for state-vector kernel\n",
    "    pca_keep        = 6,        # MUST match n_qubits\n",
    "    q_layers        = 3,\n",
    "    epochs          = 20,\n",
    "    batch_size      = 64,\n",
    "    lr              = 1e-2,\n",
    "    reg_alpha       = 1e-2,\n",
    "    classical_baseline = True,\n",
    ")\n",
    "\n",
    "np.random.seed(CONFIG[\"seed\"])\n",
    "torch.manual_seed(CONFIG[\"seed\"])\n"
   ],
   "id": "b6f2ea0c9db47845",
   "outputs": [
    {
     "data": {
      "text/plain": [
       "<torch._C.Generator at 0x24cc8f53830>"
      ]
     },
     "execution_count": 40,
     "metadata": {},
     "output_type": "execute_result"
    }
   ],
   "execution_count": 40
  },
  {
   "metadata": {
    "ExecuteTime": {
     "end_time": "2025-06-25T04:27:35.099661Z",
     "start_time": "2025-06-25T04:27:35.093999Z"
    }
   },
   "cell_type": "code",
   "source": [
    "# ──────────────────────────── 1. Load data ───────────────────────────────────\n",
    "def load_dataset(path: str) -> pd.DataFrame:\n",
    "    df = pd.read_csv(path, parse_dates=[\"date\"]).sort_values(\"date\")\n",
    "    df = df.ffill().bfill()\n",
    "    df[\"ret\"] = df[\"Close\"].pct_change()\n",
    "    return df.dropna().reset_index(drop=True)"
   ],
   "id": "bf43bc5121edc8a0",
   "outputs": [],
   "execution_count": 41
  },
  {
   "metadata": {
    "ExecuteTime": {
     "end_time": "2025-06-25T04:27:35.150256Z",
     "start_time": "2025-06-25T04:27:35.137860Z"
    }
   },
   "cell_type": "code",
   "source": [
    "# ───────────── 2. Feature engineering & windowing ────────────────────────────\n",
    "def make_features(df: pd.DataFrame) -> pd.DataFrame:\n",
    "    df = df.copy()\n",
    "    df[\"rsi14\"] = ta.momentum.rsi(df[\"Close\"], 14)\n",
    "    df[\"macd\"]  = ta.trend.macd_diff(df[\"Close\"])\n",
    "    df[\"atr14\"] = ta.volatility.average_true_range(df[\"High\"], df[\"Low\"], df[\"Close\"])\n",
    "    df[\"sma20\"] = df[\"Close\"].rolling(20).mean()\n",
    "    df[\"ema20\"] = ta.trend.ema_indicator(df[\"Close\"], 20)\n",
    "    df[\"vol_chg\"] = df[\"Volume\"].pct_change()\n",
    "\n",
    "    numeric_cols = [c for c in df.columns if pd.api.types.is_numeric_dtype(df[c])]\n",
    "    df[numeric_cols] = df[numeric_cols].ffill().bfill()\n",
    "    return df\n",
    "\n",
    "def windowify(df: pd.DataFrame, window: int, target: str):\n",
    "    \"\"\"Vectorised; ~100× faster than Python loop.\"\"\"\n",
    "    feats = df.drop(columns=[\"date\", \"Close\", \"ret\"]).to_numpy(dtype=np.float32)\n",
    "    n, d  = feats.shape\n",
    "    stride0, stride1 = feats.strides\n",
    "    X = np.lib.stride_tricks.as_strided(\n",
    "        feats,\n",
    "        shape=(n - window - 1, window * d),\n",
    "        strides=(stride0, stride0)\n",
    "    )\n",
    "    if target == \"return\":\n",
    "        y = df[\"ret\"].to_numpy(dtype=np.float32)[window + 1 :]\n",
    "    else:\n",
    "        y = df[\"Close\"].to_numpy(dtype=np.float32)[window + 1 :]\n",
    "    return X.copy(), y.copy()\n"
   ],
   "id": "49716b653b095c85",
   "outputs": [],
   "execution_count": 42
  },
  {
   "metadata": {
    "ExecuteTime": {
     "end_time": "2025-06-25T04:27:35.198684Z",
     "start_time": "2025-06-25T04:27:35.190333Z"
    }
   },
   "cell_type": "code",
   "source": [
    "def build_sampler(shots: int | None = None, seed: int = 7):\n",
    "    \"\"\"\n",
    "    Return an *Aer* Sampler (V1).  This class still inherits from\n",
    "    `BaseSampler` – exactly what `ComputeUncompute` expects.  Setting\n",
    "    `shots=None` makes Aer calculate exact probabilities; an integer\n",
    "    gives shot-based sampling.  The seed is forwarded via run-options.\n",
    "    \"\"\"\n",
    "    run_opts = {\"shots\": shots, \"seed\": seed}                # shots=None ⇒ exact  :contentReference[oaicite:1]{index=1}\n",
    "    return Sampler(run_options=run_opts)     "
   ],
   "id": "11ea375d399f4230",
   "outputs": [],
   "execution_count": 43
  },
  {
   "metadata": {},
   "cell_type": "markdown",
   "source": "### Method 1: Quantum Kernel Ridge Regression via Qiskit + Sklearn",
   "id": "be839d00dbb4de0e"
  },
  {
   "metadata": {
    "ExecuteTime": {
     "end_time": "2025-06-25T04:27:35.236657Z",
     "start_time": "2025-06-25T04:27:35.229376Z"
    }
   },
   "cell_type": "code",
   "source": [
    "# ──────────── 4A. Quantum Kernel Ridge Regression via Qiskit + Sklearn ───────\n",
    "def train_qkrr_fast(X_tr, y_tr, X_te, alpha=0.1, reps=1):\n",
    "    fmap = ZZFeatureMap(CONFIG[\"n_qubits\"], reps=reps)\n",
    "    kernel = FidelityStatevectorKernel(\n",
    "        feature_map=fmap,\n",
    "        auto_clear_cache=False,   #  KEEP the state-vector cache\n",
    "        shots=None,\n",
    "    )\n",
    "    # Pre-compute Gram matrices just once\n",
    "    K_tr = kernel.evaluate(X_tr)\n",
    "    K_te = kernel.evaluate(X_te, X_tr)\n",
    "\n",
    "    model = KernelRidge(alpha=alpha, kernel=\"precomputed\")\n",
    "    model.fit(K_tr, y_tr)\n",
    "    return model.predict(K_te)"
   ],
   "id": "4a48c1c941dcfcc4",
   "outputs": [],
   "execution_count": 44
  },
  {
   "metadata": {},
   "cell_type": "markdown",
   "source": "### Evaluation",
   "id": "54f1ff69cae405a1"
  },
  {
   "metadata": {
    "ExecuteTime": {
     "end_time": "2025-06-25T04:27:35.273863Z",
     "start_time": "2025-06-25T04:27:35.266063Z"
    }
   },
   "cell_type": "code",
   "source": [
    "# ────────────────────────── 5. Utility metrics ──────────────────────────────\n",
    "import numpy as np\n",
    "from sklearn.metrics import mean_absolute_error, mean_squared_error\n",
    "\n",
    "def directional_accuracy(y_true, y_pred):\n",
    "    \"\"\"Share of samples whose predicted sign equals the true sign.\"\"\"\n",
    "    return np.mean(np.sign(y_true) == np.sign(y_pred))\n",
    "\n",
    "def evaluate(y, yhat, name):\n",
    "    mae   = mean_absolute_error(y, yhat)\n",
    "    rmse  = math.sqrt(mean_squared_error(y, yhat))\n",
    "    dacc  = directional_accuracy(y, yhat)\n",
    "    print(f\"{name:<6}  MAE={mae:.6f}  RMSE={rmse:.6f}  DA={dacc:.3f}\")\n",
    "    return mae, rmse, dacc\n"
   ],
   "id": "534afa5b6f6c2ed4",
   "outputs": [],
   "execution_count": 45
  },
  {
   "metadata": {
    "ExecuteTime": {
     "end_time": "2025-06-25T04:33:04.513073Z",
     "start_time": "2025-06-25T04:27:35.312422Z"
    }
   },
   "cell_type": "code",
   "source": [
    "csv_path = \"../data/master_dataset_cleaned.csv\"\n",
    "print(\"Loading dataset …\")\n",
    "\n",
    "df = make_features(load_dataset(csv_path))\n",
    "X, y = windowify(df, CONFIG[\"window\"], CONFIG[\"target\"])\n",
    "X = CONFIG[\"scaler\"].fit_transform(X)\n",
    "\n",
    "# dimensionality reduction → n_qubits dims\n",
    "pca = PCA(\n",
    "    n_components=CONFIG[\"pca_keep\"],\n",
    "    random_state=CONFIG[\"seed\"],\n",
    "    svd_solver=\"randomized\",\n",
    "    iterated_power=3,\n",
    "    n_oversamples=8,\n",
    ")\n",
    "X_red = pca.fit_transform(X)\n",
    "\n",
    "X_tr, X_te, y_tr, y_te = train_test_split(\n",
    "    X_red, y, test_size=CONFIG[\"test_size\"], shuffle=False)\n",
    "\n",
    "results = {}\n",
    "\n",
    "# — QKRR —\n",
    "preds = train_qkrr_fast(X_tr, y_tr, X_te)\n",
    "results[\"QKRR\"] = evaluate(y_te, preds, \"QKRR\")\n",
    "\n",
    "\n",
    "print(\"\\nSummary:\")\n",
    "for name, (mae, rmse, dacc) in results.items():\n",
    "    print(f\"{name}: MAE={mae:.6f} | RMSE={rmse:.6f} | DA={dacc:.3f}\")"
   ],
   "id": "be6304433189ed5d",
   "outputs": [
    {
     "name": "stdout",
     "output_type": "stream",
     "text": [
      "Loading dataset …\n"
     ]
    },
    {
     "ename": "KeyboardInterrupt",
     "evalue": "",
     "output_type": "error",
     "traceback": [
      "\u001B[31m---------------------------------------------------------------------------\u001B[39m",
      "\u001B[31mKeyboardInterrupt\u001B[39m                         Traceback (most recent call last)",
      "\u001B[36mCell\u001B[39m\u001B[36m \u001B[39m\u001B[32mIn[46]\u001B[39m\u001B[32m, line 21\u001B[39m\n\u001B[32m     18\u001B[39m results = {}\n\u001B[32m     20\u001B[39m \u001B[38;5;66;03m# — QKRR —\u001B[39;00m\n\u001B[32m---> \u001B[39m\u001B[32m21\u001B[39m preds = \u001B[43mtrain_qkrr_fast\u001B[49m\u001B[43m(\u001B[49m\u001B[43mX_tr\u001B[49m\u001B[43m,\u001B[49m\u001B[43m \u001B[49m\u001B[43my_tr\u001B[49m\u001B[43m,\u001B[49m\u001B[43m \u001B[49m\u001B[43mX_te\u001B[49m\u001B[43m)\u001B[49m\n\u001B[32m     22\u001B[39m results[\u001B[33m\"\u001B[39m\u001B[33mQKRR\u001B[39m\u001B[33m\"\u001B[39m] = evaluate(y_te, preds, \u001B[33m\"\u001B[39m\u001B[33mQKRR\u001B[39m\u001B[33m\"\u001B[39m)\n\u001B[32m     25\u001B[39m \u001B[38;5;28mprint\u001B[39m(\u001B[33m\"\u001B[39m\u001B[38;5;130;01m\\n\u001B[39;00m\u001B[33mSummary:\u001B[39m\u001B[33m\"\u001B[39m)\n",
      "\u001B[36mCell\u001B[39m\u001B[36m \u001B[39m\u001B[32mIn[44]\u001B[39m\u001B[32m, line 10\u001B[39m, in \u001B[36mtrain_qkrr_fast\u001B[39m\u001B[34m(X_tr, y_tr, X_te, alpha, reps)\u001B[39m\n\u001B[32m      4\u001B[39m kernel = FidelityStatevectorKernel(\n\u001B[32m      5\u001B[39m     feature_map=fmap,\n\u001B[32m      6\u001B[39m     auto_clear_cache=\u001B[38;5;28;01mFalse\u001B[39;00m,   \u001B[38;5;66;03m#  KEEP the state-vector cache\u001B[39;00m\n\u001B[32m      7\u001B[39m     shots=\u001B[38;5;28;01mNone\u001B[39;00m,\n\u001B[32m      8\u001B[39m )\n\u001B[32m      9\u001B[39m \u001B[38;5;66;03m# Pre-compute Gram matrices just once\u001B[39;00m\n\u001B[32m---> \u001B[39m\u001B[32m10\u001B[39m K_tr = \u001B[43mkernel\u001B[49m\u001B[43m.\u001B[49m\u001B[43mevaluate\u001B[49m\u001B[43m(\u001B[49m\u001B[43mX_tr\u001B[49m\u001B[43m)\u001B[49m\n\u001B[32m     11\u001B[39m K_te = kernel.evaluate(X_te, X_tr)\n\u001B[32m     13\u001B[39m model = KernelRidge(alpha=alpha, kernel=\u001B[33m\"\u001B[39m\u001B[33mprecomputed\u001B[39m\u001B[33m\"\u001B[39m)\n",
      "\u001B[36mFile \u001B[39m\u001B[32m~\\PycharmProjects\\QuantumAlgo\\.venv\\Lib\\site-packages\\qiskit_machine_learning\\kernels\\fidelity_statevector_kernel.py:121\u001B[39m, in \u001B[36mFidelityStatevectorKernel.evaluate\u001B[39m\u001B[34m(self, x_vec, y_vec)\u001B[39m\n\u001B[32m    118\u001B[39m \u001B[38;5;28;01melif\u001B[39;00m \u001B[38;5;129;01mnot\u001B[39;00m np.array_equal(x_vec, y_vec):\n\u001B[32m    119\u001B[39m     is_symmetric = \u001B[38;5;28;01mFalse\u001B[39;00m\n\u001B[32m--> \u001B[39m\u001B[32m121\u001B[39m \u001B[38;5;28;01mreturn\u001B[39;00m \u001B[38;5;28;43mself\u001B[39;49m\u001B[43m.\u001B[49m\u001B[43m_evaluate\u001B[49m\u001B[43m(\u001B[49m\u001B[43mx_vec\u001B[49m\u001B[43m,\u001B[49m\u001B[43m \u001B[49m\u001B[43my_vec\u001B[49m\u001B[43m,\u001B[49m\u001B[43m \u001B[49m\u001B[43mis_symmetric\u001B[49m\u001B[43m)\u001B[49m\n",
      "\u001B[36mFile \u001B[39m\u001B[32m~\\PycharmProjects\\QuantumAlgo\\.venv\\Lib\\site-packages\\qiskit_machine_learning\\kernels\\fidelity_statevector_kernel.py:126\u001B[39m, in \u001B[36mFidelityStatevectorKernel._evaluate\u001B[39m\u001B[34m(self, x_vec, y_vec, is_symmetric)\u001B[39m\n\u001B[32m    123\u001B[39m \u001B[38;5;28;01mdef\u001B[39;00m\u001B[38;5;250m \u001B[39m\u001B[34m_evaluate\u001B[39m(\u001B[38;5;28mself\u001B[39m, x_vec: np.ndarray, y_vec: np.ndarray, is_symmetric: \u001B[38;5;28mbool\u001B[39m):\n\u001B[32m    124\u001B[39m     kernel_shape = (x_vec.shape[\u001B[32m0\u001B[39m], y_vec.shape[\u001B[32m0\u001B[39m])\n\u001B[32m--> \u001B[39m\u001B[32m126\u001B[39m     x_svs = [\u001B[38;5;28;43mself\u001B[39;49m\u001B[43m.\u001B[49m\u001B[43m_get_statevector\u001B[49m\u001B[43m(\u001B[49m\u001B[38;5;28;43mtuple\u001B[39;49m\u001B[43m(\u001B[49m\u001B[43mx\u001B[49m\u001B[43m)\u001B[49m\u001B[43m)\u001B[49m \u001B[38;5;28;01mfor\u001B[39;00m x \u001B[38;5;129;01min\u001B[39;00m x_vec]\n\u001B[32m    127\u001B[39m     y_svs = [\u001B[38;5;28mself\u001B[39m._get_statevector(\u001B[38;5;28mtuple\u001B[39m(y)) \u001B[38;5;28;01mfor\u001B[39;00m y \u001B[38;5;129;01min\u001B[39;00m y_vec]\n\u001B[32m    129\u001B[39m     kernel_matrix = np.ones(kernel_shape)\n",
      "\u001B[36mFile \u001B[39m\u001B[32m~\\PycharmProjects\\QuantumAlgo\\.venv\\Lib\\site-packages\\qiskit_machine_learning\\kernels\\fidelity_statevector_kernel.py:144\u001B[39m, in \u001B[36mFidelityStatevectorKernel._get_statevector_\u001B[39m\u001B[34m(self, param_values)\u001B[39m\n\u001B[32m    141\u001B[39m \u001B[38;5;28;01mdef\u001B[39;00m\u001B[38;5;250m \u001B[39m\u001B[34m_get_statevector_\u001B[39m(\u001B[38;5;28mself\u001B[39m, param_values: \u001B[38;5;28mtuple\u001B[39m[\u001B[38;5;28mfloat\u001B[39m]) -> np.ndarray:\n\u001B[32m    142\u001B[39m     \u001B[38;5;66;03m# lru_cache requires hashable function arguments.\u001B[39;00m\n\u001B[32m    143\u001B[39m     qc = \u001B[38;5;28mself\u001B[39m._feature_map.assign_parameters(param_values)\n\u001B[32m--> \u001B[39m\u001B[32m144\u001B[39m     \u001B[38;5;28;01mreturn\u001B[39;00m \u001B[38;5;28;43mself\u001B[39;49m\u001B[43m.\u001B[49m\u001B[43m_statevector_type\u001B[49m\u001B[43m(\u001B[49m\u001B[43mqc\u001B[49m\u001B[43m)\u001B[49m.data\n",
      "\u001B[36mFile \u001B[39m\u001B[32m~\\PycharmProjects\\QuantumAlgo\\.venv\\Lib\\site-packages\\qiskit\\quantum_info\\states\\statevector.py:93\u001B[39m, in \u001B[36mStatevector.__init__\u001B[39m\u001B[34m(self, data, dims)\u001B[39m\n\u001B[32m     91\u001B[39m     \u001B[38;5;28mself\u001B[39m._data = np.ravel(data.data)\n\u001B[32m     92\u001B[39m \u001B[38;5;28;01melif\u001B[39;00m \u001B[38;5;28misinstance\u001B[39m(data, (QuantumCircuit, Instruction)):\n\u001B[32m---> \u001B[39m\u001B[32m93\u001B[39m     \u001B[38;5;28mself\u001B[39m._data = \u001B[43mStatevector\u001B[49m\u001B[43m.\u001B[49m\u001B[43mfrom_instruction\u001B[49m\u001B[43m(\u001B[49m\u001B[43mdata\u001B[49m\u001B[43m)\u001B[49m.data\n\u001B[32m     94\u001B[39m \u001B[38;5;28;01melse\u001B[39;00m:\n\u001B[32m     95\u001B[39m     \u001B[38;5;28;01mraise\u001B[39;00m QiskitError(\u001B[33m\"\u001B[39m\u001B[33mInvalid input data format for Statevector\u001B[39m\u001B[33m\"\u001B[39m)\n",
      "\u001B[36mFile \u001B[39m\u001B[32m~\\PycharmProjects\\QuantumAlgo\\.venv\\Lib\\site-packages\\qiskit\\quantum_info\\states\\statevector.py:767\u001B[39m, in \u001B[36mStatevector.from_instruction\u001B[39m\u001B[34m(cls, instruction)\u001B[39m\n\u001B[32m    765\u001B[39m init[\u001B[32m0\u001B[39m] = \u001B[32m1.0\u001B[39m\n\u001B[32m    766\u001B[39m vec = Statevector(init, dims=instruction.num_qubits * (\u001B[32m2\u001B[39m,))\n\u001B[32m--> \u001B[39m\u001B[32m767\u001B[39m \u001B[38;5;28;01mreturn\u001B[39;00m \u001B[43mStatevector\u001B[49m\u001B[43m.\u001B[49m\u001B[43m_evolve_instruction\u001B[49m\u001B[43m(\u001B[49m\u001B[43mvec\u001B[49m\u001B[43m,\u001B[49m\u001B[43m \u001B[49m\u001B[43minstruction\u001B[49m\u001B[43m)\u001B[49m\n",
      "\u001B[36mFile \u001B[39m\u001B[32m~\\PycharmProjects\\QuantumAlgo\\.venv\\Lib\\site-packages\\qiskit\\quantum_info\\states\\statevector.py:957\u001B[39m, in \u001B[36mStatevector._evolve_instruction\u001B[39m\u001B[34m(statevec, obj, qargs)\u001B[39m\n\u001B[32m    955\u001B[39m     \u001B[38;5;28;01melse\u001B[39;00m:\n\u001B[32m    956\u001B[39m         new_qargs = [qargs[qubits[tup]] \u001B[38;5;28;01mfor\u001B[39;00m tup \u001B[38;5;129;01min\u001B[39;00m instruction.qubits]\n\u001B[32m--> \u001B[39m\u001B[32m957\u001B[39m     \u001B[43mStatevector\u001B[49m\u001B[43m.\u001B[49m\u001B[43m_evolve_instruction\u001B[49m\u001B[43m(\u001B[49m\u001B[43mstatevec\u001B[49m\u001B[43m,\u001B[49m\u001B[43m \u001B[49m\u001B[43minstruction\u001B[49m\u001B[43m.\u001B[49m\u001B[43moperation\u001B[49m\u001B[43m,\u001B[49m\u001B[43m \u001B[49m\u001B[43mqargs\u001B[49m\u001B[43m=\u001B[49m\u001B[43mnew_qargs\u001B[49m\u001B[43m)\u001B[49m\n\u001B[32m    958\u001B[39m \u001B[38;5;28;01mreturn\u001B[39;00m statevec\n",
      "\u001B[36mFile \u001B[39m\u001B[32m~\\PycharmProjects\\QuantumAlgo\\.venv\\Lib\\site-packages\\qiskit\\quantum_info\\states\\statevector.py:957\u001B[39m, in \u001B[36mStatevector._evolve_instruction\u001B[39m\u001B[34m(statevec, obj, qargs)\u001B[39m\n\u001B[32m    955\u001B[39m     \u001B[38;5;28;01melse\u001B[39;00m:\n\u001B[32m    956\u001B[39m         new_qargs = [qargs[qubits[tup]] \u001B[38;5;28;01mfor\u001B[39;00m tup \u001B[38;5;129;01min\u001B[39;00m instruction.qubits]\n\u001B[32m--> \u001B[39m\u001B[32m957\u001B[39m     \u001B[43mStatevector\u001B[49m\u001B[43m.\u001B[49m\u001B[43m_evolve_instruction\u001B[49m\u001B[43m(\u001B[49m\u001B[43mstatevec\u001B[49m\u001B[43m,\u001B[49m\u001B[43m \u001B[49m\u001B[43minstruction\u001B[49m\u001B[43m.\u001B[49m\u001B[43moperation\u001B[49m\u001B[43m,\u001B[49m\u001B[43m \u001B[49m\u001B[43mqargs\u001B[49m\u001B[43m=\u001B[49m\u001B[43mnew_qargs\u001B[49m\u001B[43m)\u001B[49m\n\u001B[32m    958\u001B[39m \u001B[38;5;28;01mreturn\u001B[39;00m statevec\n",
      "\u001B[36mFile \u001B[39m\u001B[32m~\\PycharmProjects\\QuantumAlgo\\.venv\\Lib\\site-packages\\qiskit\\quantum_info\\states\\statevector.py:899\u001B[39m, in \u001B[36mStatevector._evolve_instruction\u001B[39m\u001B[34m(statevec, obj, qargs)\u001B[39m\n\u001B[32m    895\u001B[39m mat = Operator._instruction_to_matrix(obj)\n\u001B[32m    896\u001B[39m \u001B[38;5;28;01mif\u001B[39;00m mat \u001B[38;5;129;01mis\u001B[39;00m \u001B[38;5;129;01mnot\u001B[39;00m \u001B[38;5;28;01mNone\u001B[39;00m:\n\u001B[32m    897\u001B[39m     \u001B[38;5;66;03m# Perform the composition and inplace update the current state\u001B[39;00m\n\u001B[32m    898\u001B[39m     \u001B[38;5;66;03m# of the operator\u001B[39;00m\n\u001B[32m--> \u001B[39m\u001B[32m899\u001B[39m     \u001B[38;5;28;01mreturn\u001B[39;00m \u001B[43mStatevector\u001B[49m\u001B[43m.\u001B[49m\u001B[43m_evolve_operator\u001B[49m\u001B[43m(\u001B[49m\u001B[43mstatevec\u001B[49m\u001B[43m,\u001B[49m\u001B[43m \u001B[49m\u001B[43mOperator\u001B[49m\u001B[43m(\u001B[49m\u001B[43mmat\u001B[49m\u001B[43m)\u001B[49m\u001B[43m,\u001B[49m\u001B[43m \u001B[49m\u001B[43mqargs\u001B[49m\u001B[43m=\u001B[49m\u001B[43mqargs\u001B[49m\u001B[43m)\u001B[49m\n\u001B[32m    901\u001B[39m \u001B[38;5;66;03m# Special instruction types\u001B[39;00m\n\u001B[32m    902\u001B[39m \u001B[38;5;28;01mif\u001B[39;00m \u001B[38;5;28misinstance\u001B[39m(obj, Reset):\n",
      "\u001B[36mFile \u001B[39m\u001B[32m~\\PycharmProjects\\QuantumAlgo\\.venv\\Lib\\site-packages\\qiskit\\quantum_info\\states\\statevector.py:872\u001B[39m, in \u001B[36mStatevector._evolve_operator\u001B[39m\u001B[34m(statevec, oper, qargs)\u001B[39m\n\u001B[32m    868\u001B[39m tensor_shape = tensor.shape\n\u001B[32m    870\u001B[39m \u001B[38;5;66;03m# Perform contraction\u001B[39;00m\n\u001B[32m    871\u001B[39m tensor = np.reshape(\n\u001B[32m--> \u001B[39m\u001B[32m872\u001B[39m     \u001B[43mnp\u001B[49m\u001B[43m.\u001B[49m\u001B[43mdot\u001B[49m\u001B[43m(\u001B[49m\u001B[43moper\u001B[49m\u001B[43m.\u001B[49m\u001B[43mdata\u001B[49m\u001B[43m,\u001B[49m\u001B[43m \u001B[49m\u001B[43mnp\u001B[49m\u001B[43m.\u001B[49m\u001B[43mreshape\u001B[49m\u001B[43m(\u001B[49m\u001B[43mtensor\u001B[49m\u001B[43m,\u001B[49m\u001B[43m \u001B[49m\u001B[43mcontract_shape\u001B[49m\u001B[43m)\u001B[49m\u001B[43m)\u001B[49m,\n\u001B[32m    873\u001B[39m     tensor_shape,\n\u001B[32m    874\u001B[39m )\n\u001B[32m    876\u001B[39m \u001B[38;5;66;03m# Transpose back to  original subsystem spec and flatten\u001B[39;00m\n\u001B[32m    877\u001B[39m statevec._data = np.reshape(np.transpose(tensor, axes_inv), new_shape.shape[\u001B[32m0\u001B[39m])\n",
      "\u001B[31mKeyboardInterrupt\u001B[39m: "
     ]
    }
   ],
   "execution_count": 46
  },
  {
   "metadata": {
    "ExecuteTime": {
     "end_time": "2025-06-25T04:33:04.545633900Z",
     "start_time": "2025-06-25T01:26:08.707829Z"
    }
   },
   "cell_type": "code",
   "source": [
    "import os\n",
    "from itertools import product\n",
    "from joblib import Parallel, delayed\n",
    "from sklearn.discriminant_analysis import LinearDiscriminantAnalysis as LDA\n",
    "from qiskit_machine_learning.kernels import FidelityStatevectorKernel\n",
    "from qiskit.circuit.library import ZZFeatureMap\n",
    "from sklearn.kernel_ridge import KernelRidge\n",
    "\n",
    "# 1) feature compression (LDA) -------------------------------------------\n",
    "lda = LDA(n_components=1)\n",
    "x1d = lda.fit_transform(X, np.sign(y))      # shape (N, 1)\n",
    "\n",
    "# tile the single component to fill 6 qubits\n",
    "X_red = np.tile(x1d, (1, CONFIG[\"n_qubits\"]))   # shape (N, 6)\n",
    "\n",
    "# 2) split ---------------------------------------------------------------\n",
    "X_tr, X_te, y_tr, y_te = train_test_split(\n",
    "    X_red, y, test_size=CONFIG[\"test_size\"], shuffle=False)\n",
    "\n",
    "# 3) statevector backend options -----------------------------------------\n",
    "sv_kwargs = {\"method\": \"statevector_gpu\"} if \"CUDA_VISIBLE_DEVICES\" in os.environ else {}\n",
    "fmap_cache = {}      # reuse circuits across α,reps combos\n",
    "\n",
    "def fit_single(alpha, reps):\n",
    "    # cached feature map -----------------------------------------------\n",
    "    if reps not in fmap_cache:\n",
    "        fmap_cache[reps] = ZZFeatureMap(CONFIG[\"n_qubits\"], reps=reps)\n",
    "    fmap = fmap_cache[reps]\n",
    "\n",
    "    kernel = FidelityStatevectorKernel(\n",
    "        feature_map=fmap,\n",
    "        auto_clear_cache=False,        # speed!\n",
    "        shots=None  \n",
    "    )\n",
    "\n",
    "    # one-shot Gram matrix ---------------------------------------------\n",
    "    K_tr = kernel.evaluate(X_tr)\n",
    "    K_te = kernel.evaluate(X_te, X_tr)\n",
    "\n",
    "    mdl = KernelRidge(alpha=alpha, kernel=\"precomputed\")\n",
    "    mdl.fit(K_tr, y_tr)\n",
    "    preds = mdl.predict(K_te)\n",
    "    mae  = mean_absolute_error(y_te, preds)\n",
    "    rmse = root_mean_squared_error(y_te, preds)\n",
    "    da   = np.mean(np.sign(y_te) == np.sign(preds))     # directional accuracy\n",
    "\n",
    "    return (alpha, reps, mae, rmse, da)\n",
    "\n",
    "# 4) tiny grid search -----------------------------------------------------\n",
    "alphas = 10.0 ** np.linspace(-4, -1, 4)  # 1e-4 … 1e-1\n",
    "reps_list = [1, 2]\n",
    "results = Parallel(n_jobs=-1)(\n",
    "    delayed(fit_single)(a, r) for a, r in product(alphas, reps_list)\n",
    ")\n",
    "\n",
    "alpha_best, reps_best, mae_best, rmse_best, da_best = min(\n",
    "    results, key=lambda t: t[2]  # still minimizing MAE (index 2)\n",
    ")\n",
    "print(f\"BEST α={alpha_best:.1e}, reps={reps_best}  \"\n",
    "      f\"MAE={mae_best:.6f}  RMSE={rmse_best:.6f}  DA={da_best:.3f}\")\n",
    "\n"
   ],
   "id": "99571f8108ab7201",
   "outputs": [
    {
     "name": "stdout",
     "output_type": "stream",
     "text": [
      "BEST α=1.0e-01, reps=1  MAE=0.020730  RMSE=0.029117  DA=0.668\n"
     ]
    }
   ],
   "execution_count": 23
  },
  {
   "metadata": {
    "ExecuteTime": {
     "end_time": "2025-06-25T04:33:04.546638200Z",
     "start_time": "2025-06-25T01:33:46.435110Z"
    }
   },
   "cell_type": "code",
   "source": [
    "fmap = ZZFeatureMap(6, reps=1)\n",
    "kernel = FidelityStatevectorKernel(\n",
    "    feature_map=fmap,\n",
    "    auto_clear_cache=False,\n",
    "    shots=None\n",
    ")\n",
    "K_train = kernel.evaluate(X_tr)\n",
    "K_test  = kernel.evaluate(X_te, X_tr)\n",
    "\n",
    "model = KernelRidge(alpha=0.1, kernel=\"precomputed\")\n",
    "model.fit(K_train, y_tr)\n",
    "y_pred = model.predict(K_test)"
   ],
   "id": "e399ea8cd1d85e10",
   "outputs": [],
   "execution_count": 28
  }
 ],
 "metadata": {
  "kernelspec": {
   "display_name": "Python 3",
   "language": "python",
   "name": "python3"
  },
  "language_info": {
   "codemirror_mode": {
    "name": "ipython",
    "version": 2
   },
   "file_extension": ".py",
   "mimetype": "text/x-python",
   "name": "python",
   "nbconvert_exporter": "python",
   "pygments_lexer": "ipython2",
   "version": "2.7.6"
  }
 },
 "nbformat": 4,
 "nbformat_minor": 5
}
