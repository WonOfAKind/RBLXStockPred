{
 "cells": [
  {
   "cell_type": "code",
   "id": "initial_id",
   "metadata": {
    "collapsed": true,
    "ExecuteTime": {
     "end_time": "2025-05-19T02:38:42.351880Z",
     "start_time": "2025-05-19T02:38:42.051637Z"
    }
   },
   "source": [
    "#Collecting Technical Stock Data\n",
    "\n",
    "import numpy as np\n",
    "\n",
    "# Patch for NumPy 2.0+ compatibility\n",
    "if not hasattr(np, 'NaN'):\n",
    "    np.NaN = np.nan\n",
    "if not hasattr(np, 'Inf'):\n",
    "    np.Inf = np.inf\n",
    "\n",
    "import yfinance as yf\n",
    "import pandas_ta as ta\n",
    "\n",
    "# Define the tickers\n",
    "tickers = [\"RBLX\", \"^GSPC\", \"^IXIC\"]\n",
    "\n",
    "# Set your time range\n",
    "start_date = \"2021-03-10\"  # Roblox IPO date\n",
    "end_date = None  \n",
    "\n",
    "# Fetch historical data\n",
    "data = yf.download(tickers, start=start_date, end=end_date, group_by='ticker', auto_adjust=True)\n",
    "\n",
    "# Extract RBLX data and add technical indicators\n",
    "rblx = data['RBLX'].copy()\n",
    "rblx['SMA_20'] = ta.sma(rblx['Close'], length=20)\n",
    "rblx['RSI_14'] = ta.rsi(rblx['Close'], length=14)\n",
    "rblx['MACD'] = ta.macd(rblx['Close'])['MACD_12_26_9']\n",
    "\n",
    "# Save to CSV\n",
    "rblx.to_csv(\"RBLX_with_technicals.csv\")\n",
    "print(\"Saved: RBLX_with_technicals.csv\")\n",
    "\n",
    "# Optionally save S&P500 and Nasdaq data too\n",
    "data['^GSPC'].to_csv(\"SP500.csv\")\n",
    "data['^IXIC'].to_csv(\"Nasdaq.csv\")\n",
    "print(\"Saved: SP500.csv and Nasdaq.csv\")\n",
    "\n"
   ],
   "outputs": [
    {
     "name": "stderr",
     "output_type": "stream",
     "text": [
      "[*********************100%***********************]  3 of 3 completed"
     ]
    },
    {
     "name": "stdout",
     "output_type": "stream",
     "text": [
      "Saved: RBLX_with_technicals.csv\n",
      "Saved: SP500.csv and Nasdaq.csv\n"
     ]
    },
    {
     "name": "stderr",
     "output_type": "stream",
     "text": [
      "\n"
     ]
    }
   ],
   "execution_count": 9
  },
  {
   "metadata": {
    "ExecuteTime": {
     "end_time": "2025-05-19T02:52:18.193984Z",
     "start_time": "2025-05-19T02:52:16.586668Z"
    }
   },
   "cell_type": "code",
   "source": [
    "import yfinance as yf\n",
    "\n",
    "SAVE_DIR = \"../data/\"\n",
    "\n",
    "rblx = yf.Ticker(\"RBLX\")\n",
    "\n",
    "# Income statement\n",
    "rblx.quarterly_financials.to_csv(SAVE_DIR + \"RBLX_quarterly_income_statement.csv\")\n",
    "rblx.quarterly_balance_sheet.to_csv(SAVE_DIR + \"RBLX_quarterly_balance_sheet.csv\")\n",
    "rblx.quarterly_cashflow.to_csv(SAVE_DIR + \"RBLX_quarterly_cashflow.csv\")\n",
    "\n",
    "print(\"Downloaded all major annual & quarterly financials from Yahoo Finance.\")"
   ],
   "id": "ebea6e7e45bed8f2",
   "outputs": [
    {
     "name": "stdout",
     "output_type": "stream",
     "text": [
      "Downloaded all major annual & quarterly financials from Yahoo Finance.\n"
     ]
    }
   ],
   "execution_count": 11
  },
  {
   "metadata": {
    "ExecuteTime": {
     "end_time": "2025-05-19T04:36:26.954373Z",
     "start_time": "2025-05-19T04:34:37.397841Z"
    }
   },
   "cell_type": "code",
   "source": [
    "# Fundamental Data, Gather Information from the SEC (Securities and Exchange Commission.\n",
    "\n",
    "from sec_edgar_downloader import Downloader\n",
    "\n",
    "dl = Downloader(\"RBLX_SEC\", \"saysaygo@gmail.com\", \"../data\")\n",
    "CIK = \"RBLX\"\n",
    "\n",
    "dl.get(\"10-K\", CIK, after=\"2021-01-01\")\n",
    "dl.get(\"10-Q\", CIK, after=\"2021-01-01\")\n",
    "dl.get(\"8-K\", CIK, after=\"2021-01-01\")\n",
    "\n"
   ],
   "id": "1ea8c76fbfbd84fb",
   "outputs": [
    {
     "data": {
      "text/plain": [
       "40"
      ]
     },
     "execution_count": 16,
     "metadata": {},
     "output_type": "execute_result"
    }
   ],
   "execution_count": 16
  },
  {
   "metadata": {
    "ExecuteTime": {
     "end_time": "2025-05-20T02:40:38.394104Z",
     "start_time": "2025-05-20T02:40:35.824023Z"
    }
   },
   "cell_type": "code",
   "source": [
    "# User Engagement Data Via RoMonitor\n",
    "\n",
    "import requests\n",
    "import pandas as pd\n",
    "import os\n",
    "\n",
    "# Define the API endpoints and corresponding filenames\n",
    "endpoints = {\n",
    "    \"ccu\": \"https://romonitorstats.com/api/v1/charts/get?name=platform-ccus&timeslice=day&start=2020-01-05T00:00:00.000Z&ends=2025-05-19T23:59:59.999Z\",\n",
    "    \"registrations\": \"https://romonitorstats.com/api/v1/charts/get?name=platform-registrations&timeslice=day&start=2020-03-15T00:00:00.000Z&ends=2025-05-19T23:59:59.999Z\",\n",
    "    \"session_length\": \"https://romonitorstats.com/api/v1/charts/get?name=platform-session-length&timeslice=day&start=2023-04-01T00:00:00.000Z&ends=2025-05-19T23:59:59.999Z\",\n",
    "    \"popular_games\": \"https://romonitorstats.com/api/v1/charts/get?name=platform-sorts&sort=null&timeslice=half-hourly&start=2025-05-06T00:00:00.000Z&ends=2025-05-19T23:59:59.999Z\"\n",
    "}\n",
    "\n",
    "# Create a directory to store the CSV files\n",
    "output_dir = \"romonitor_data\"\n",
    "os.makedirs(output_dir, exist_ok=True)\n",
    "\n",
    "for key, url in endpoints.items():\n",
    "    try:\n",
    "        response = requests.get(url)\n",
    "        response.raise_for_status()\n",
    "        data = response.json()\n",
    "\n",
    "        if isinstance(data, list):\n",
    "            df = pd.DataFrame(data)\n",
    "        else:\n",
    "            df = pd.DataFrame(data.get(\"data\", []))\n",
    "\n",
    "        # Save the DataFrame to a CSV file\n",
    "        output_path = os.path.join(output_dir, f\"{key}.csv\")\n",
    "        df.to_csv(output_path, index=False)\n",
    "        print(f\"Saved {key} data to {output_path}\")\n",
    "    except Exception as e:\n",
    "        print(f\"Error fetching {key} data: {e}\")\n",
    "\n",
    "\n"
   ],
   "id": "96b8b6c89f06066b",
   "outputs": [
    {
     "name": "stdout",
     "output_type": "stream",
     "text": [
      "Saved ccu data to romonitor_data\\ccu.csv\n",
      "Saved registrations data to romonitor_data\\registrations.csv\n",
      "Saved session_length data to romonitor_data\\session_length.csv\n",
      "Saved popular_games data to romonitor_data\\popular_games.csv\n"
     ]
    }
   ],
   "execution_count": 2
  },
  {
   "metadata": {
    "ExecuteTime": {
     "end_time": "2025-05-20T04:02:39.004145Z",
     "start_time": "2025-05-20T04:02:36.036907Z"
    }
   },
   "cell_type": "code",
   "source": [
    "# Sentiment Analysis \n",
    "\n",
    "import finnhub\n",
    "from datetime import datetime, timedelta\n",
    "import nltk\n",
    "from nltk.sentiment.vader import SentimentIntensityAnalyzer\n",
    "\n",
    "# Download VADER lexicon (once):\n",
    "nltk.download(\"vader_lexicon\")\n",
    "\n",
    "# Init Finnhub client\n",
    "api_key = \"d0lv0opr01qpni31ielgd0lv0opr01qpni31iem0\"\n",
    "if not api_key:\n",
    "    raise RuntimeError(\"Please set FINNHUB_API_KEY\")\n",
    "client = finnhub.Client(api_key=api_key)\n",
    "\n",
    "# Fetch company news for RBLX over the last 30 days\n",
    "to_date = datetime.today()\n",
    "from_date = to_date - timedelta(days=365)\n",
    "news = client.company_news(\n",
    "    symbol=\"RBLX\",\n",
    "    _from=from_date.strftime(\"%Y-%m-%d\"),\n",
    "    to=to_date.strftime(\"%Y-%m-%d\")\n",
    ")\n",
    "# Each item has: id, headline, summary, url, source, datetime\n",
    "\n",
    "# Compute sentiment scores with VADER\n",
    "sia = SentimentIntensityAnalyzer()\n",
    "results = []\n",
    "for article in news:\n",
    "    text = (article.get(\"headline\", \"\") + \"\\n\" + article.get(\"summary\", \"\")).strip()\n",
    "    vs = sia.polarity_scores(text)\n",
    "    results.append({\n",
    "        \"date\": datetime.fromtimestamp(article[\"datetime\"]).date(),\n",
    "        \"headline\": article[\"headline\"],\n",
    "        **vs\n",
    "    })\n",
    "\n",
    "# Aggregate daily average compound score\n",
    "from collections import defaultdict\n",
    "agg = defaultdict(list)\n",
    "for r in results:\n",
    "    agg[r[\"date\"]].append(r[\"compound\"])\n",
    "daily_sentiment = {\n",
    "    date: sum(scores)/len(scores)\n",
    "    for date, scores in agg.items()\n",
    "}\n",
    "\n",
    "# Print or save\n",
    "for date, avg in sorted(daily_sentiment.items()):\n",
    "    print(f\"{date} → Avg Compound Sentiment = {avg:.3f}\")"
   ],
   "id": "a89ce2b461f18a6c",
   "outputs": [
    {
     "name": "stderr",
     "output_type": "stream",
     "text": [
      "[nltk_data] Downloading package vader_lexicon to\n",
      "[nltk_data]     C:\\Users\\saysa\\AppData\\Roaming\\nltk_data...\n",
      "[nltk_data]   Package vader_lexicon is already up-to-date!\n"
     ]
    },
    {
     "name": "stdout",
     "output_type": "stream",
     "text": [
      "2024-11-04 → Avg Compound Sentiment = 0.532\n",
      "2024-11-05 → Avg Compound Sentiment = 0.440\n",
      "2024-11-06 → Avg Compound Sentiment = 0.218\n",
      "2024-11-07 → Avg Compound Sentiment = 0.440\n",
      "2024-11-11 → Avg Compound Sentiment = -0.181\n",
      "2024-11-13 → Avg Compound Sentiment = 0.527\n",
      "2024-11-14 → Avg Compound Sentiment = 0.340\n",
      "2024-11-15 → Avg Compound Sentiment = 0.927\n",
      "2024-11-17 → Avg Compound Sentiment = 0.527\n",
      "2024-11-18 → Avg Compound Sentiment = 0.019\n",
      "2024-11-19 → Avg Compound Sentiment = 0.691\n",
      "2024-11-20 → Avg Compound Sentiment = 0.273\n",
      "2024-11-22 → Avg Compound Sentiment = 0.650\n",
      "2024-11-25 → Avg Compound Sentiment = 0.535\n",
      "2024-11-27 → Avg Compound Sentiment = 0.778\n",
      "2024-12-02 → Avg Compound Sentiment = 0.799\n",
      "2024-12-03 → Avg Compound Sentiment = 0.464\n",
      "2024-12-06 → Avg Compound Sentiment = 0.934\n",
      "2024-12-07 → Avg Compound Sentiment = 0.653\n",
      "2024-12-09 → Avg Compound Sentiment = 0.700\n",
      "2024-12-11 → Avg Compound Sentiment = -0.226\n",
      "2024-12-12 → Avg Compound Sentiment = 0.491\n",
      "2024-12-13 → Avg Compound Sentiment = 0.000\n",
      "2024-12-14 → Avg Compound Sentiment = 0.123\n",
      "2024-12-18 → Avg Compound Sentiment = -0.660\n",
      "2024-12-20 → Avg Compound Sentiment = 0.459\n",
      "2024-12-23 → Avg Compound Sentiment = 0.000\n",
      "2024-12-24 → Avg Compound Sentiment = 0.718\n",
      "2024-12-26 → Avg Compound Sentiment = 0.527\n",
      "2024-12-28 → Avg Compound Sentiment = 0.908\n",
      "2025-01-01 → Avg Compound Sentiment = 0.709\n",
      "2025-01-02 → Avg Compound Sentiment = 0.000\n",
      "2025-01-04 → Avg Compound Sentiment = 0.527\n",
      "2025-01-05 → Avg Compound Sentiment = 0.667\n",
      "2025-01-07 → Avg Compound Sentiment = 0.000\n",
      "2025-01-08 → Avg Compound Sentiment = 0.000\n",
      "2025-01-09 → Avg Compound Sentiment = -0.153\n",
      "2025-01-10 → Avg Compound Sentiment = 0.519\n",
      "2025-01-14 → Avg Compound Sentiment = 0.000\n",
      "2025-01-17 → Avg Compound Sentiment = 0.000\n",
      "2025-01-30 → Avg Compound Sentiment = 0.511\n",
      "2025-02-04 → Avg Compound Sentiment = 0.643\n",
      "2025-02-06 → Avg Compound Sentiment = 0.004\n",
      "2025-02-07 → Avg Compound Sentiment = 0.335\n",
      "2025-02-09 → Avg Compound Sentiment = 0.002\n",
      "2025-02-10 → Avg Compound Sentiment = 0.807\n",
      "2025-02-11 → Avg Compound Sentiment = 0.925\n",
      "2025-02-13 → Avg Compound Sentiment = 0.813\n",
      "2025-02-14 → Avg Compound Sentiment = 0.511\n",
      "2025-02-19 → Avg Compound Sentiment = 0.273\n",
      "2025-03-06 → Avg Compound Sentiment = 0.637\n",
      "2025-03-09 → Avg Compound Sentiment = 0.894\n",
      "2025-03-11 → Avg Compound Sentiment = 0.538\n",
      "2025-03-12 → Avg Compound Sentiment = -0.786\n",
      "2025-03-13 → Avg Compound Sentiment = 0.520\n",
      "2025-03-14 → Avg Compound Sentiment = -0.006\n",
      "2025-03-15 → Avg Compound Sentiment = 0.431\n",
      "2025-03-16 → Avg Compound Sentiment = 0.966\n",
      "2025-03-17 → Avg Compound Sentiment = 0.388\n",
      "2025-03-18 → Avg Compound Sentiment = 0.527\n",
      "2025-03-20 → Avg Compound Sentiment = 0.447\n",
      "2025-03-21 → Avg Compound Sentiment = 0.875\n",
      "2025-03-22 → Avg Compound Sentiment = 0.294\n",
      "2025-03-23 → Avg Compound Sentiment = -0.551\n",
      "2025-03-25 → Avg Compound Sentiment = 0.277\n",
      "2025-03-26 → Avg Compound Sentiment = 0.642\n",
      "2025-03-27 → Avg Compound Sentiment = 0.457\n",
      "2025-03-28 → Avg Compound Sentiment = 0.000\n",
      "2025-03-29 → Avg Compound Sentiment = 0.915\n",
      "2025-03-30 → Avg Compound Sentiment = -0.557\n",
      "2025-03-31 → Avg Compound Sentiment = 0.250\n",
      "2025-04-01 → Avg Compound Sentiment = 0.601\n",
      "2025-04-02 → Avg Compound Sentiment = 0.310\n",
      "2025-04-03 → Avg Compound Sentiment = 0.296\n",
      "2025-04-05 → Avg Compound Sentiment = -0.440\n",
      "2025-04-07 → Avg Compound Sentiment = 0.904\n",
      "2025-04-09 → Avg Compound Sentiment = 0.178\n",
      "2025-04-10 → Avg Compound Sentiment = 0.280\n",
      "2025-04-11 → Avg Compound Sentiment = -0.574\n",
      "2025-04-12 → Avg Compound Sentiment = 0.418\n",
      "2025-04-13 → Avg Compound Sentiment = 0.693\n",
      "2025-04-15 → Avg Compound Sentiment = 0.888\n",
      "2025-04-16 → Avg Compound Sentiment = 0.364\n",
      "2025-04-17 → Avg Compound Sentiment = -0.670\n",
      "2025-04-18 → Avg Compound Sentiment = 0.428\n",
      "2025-04-20 → Avg Compound Sentiment = 0.891\n",
      "2025-04-21 → Avg Compound Sentiment = 0.382\n",
      "2025-04-22 → Avg Compound Sentiment = 0.382\n",
      "2025-04-23 → Avg Compound Sentiment = 0.086\n",
      "2025-04-24 → Avg Compound Sentiment = 0.234\n",
      "2025-04-25 → Avg Compound Sentiment = 0.376\n",
      "2025-04-26 → Avg Compound Sentiment = 0.881\n",
      "2025-04-28 → Avg Compound Sentiment = 0.509\n",
      "2025-04-29 → Avg Compound Sentiment = 0.053\n",
      "2025-04-30 → Avg Compound Sentiment = -0.304\n",
      "2025-05-01 → Avg Compound Sentiment = 0.282\n",
      "2025-05-02 → Avg Compound Sentiment = 0.398\n",
      "2025-05-03 → Avg Compound Sentiment = 0.000\n",
      "2025-05-04 → Avg Compound Sentiment = 0.925\n",
      "2025-05-05 → Avg Compound Sentiment = 0.459\n",
      "2025-05-07 → Avg Compound Sentiment = 0.719\n",
      "2025-05-08 → Avg Compound Sentiment = 0.687\n",
      "2025-05-09 → Avg Compound Sentiment = 0.352\n",
      "2025-05-10 → Avg Compound Sentiment = 0.211\n",
      "2025-05-11 → Avg Compound Sentiment = 0.927\n",
      "2025-05-12 → Avg Compound Sentiment = 0.971\n",
      "2025-05-13 → Avg Compound Sentiment = 0.482\n",
      "2025-05-14 → Avg Compound Sentiment = 0.765\n",
      "2025-05-15 → Avg Compound Sentiment = 0.624\n",
      "2025-05-16 → Avg Compound Sentiment = 0.874\n",
      "2025-05-17 → Avg Compound Sentiment = 0.000\n",
      "2025-05-18 → Avg Compound Sentiment = 0.927\n",
      "2025-05-19 → Avg Compound Sentiment = 0.491\n"
     ]
    }
   ],
   "execution_count": 2
  },
  {
   "metadata": {
    "ExecuteTime": {
     "end_time": "2025-05-20T04:02:43.796999Z",
     "start_time": "2025-05-20T04:02:43.784754Z"
    }
   },
   "cell_type": "code",
   "source": [
    "\n",
    "# import/save this into a csv file\n",
    "df = pd.DataFrame([\n",
    "    {\"date\": date, \"avg_sentiment\": avg}\n",
    "    for date, avg in sorted(daily_sentiment.items())\n",
    "])\n",
    "df.to_csv(\"rblx_news_sentiment.csv\", index=False)\n",
    "print(\"Saved as rblx_news_sentiment.csv\")"
   ],
   "id": "503d99b7ad200671",
   "outputs": [
    {
     "name": "stdout",
     "output_type": "stream",
     "text": [
      "Saved as rblx_news_sentiment.csv\n"
     ]
    }
   ],
   "execution_count": 3
  },
  {
   "metadata": {
    "ExecuteTime": {
     "end_time": "2025-05-20T04:05:09.361758Z",
     "start_time": "2025-05-20T04:05:09.314399Z"
    }
   },
   "cell_type": "code",
   "source": [
    "import yfinance as yf\n",
    "import pandas as pd\n",
    "\n",
    "# Load your sentiment csv\n",
    "sentiment = pd.read_csv(\"rblx_news_sentiment.csv\")\n",
    "\n",
    "price = yf.download(\"RBLX\", start=sentiment[\"date\"].min(), end=sentiment[\"date\"].max())\n",
    "\n",
    "# If price columns are a MultiIndex, flatten them\n",
    "if isinstance(price.columns, pd.MultiIndex):\n",
    "    price.columns = ['_'.join(col).strip() if isinstance(col, tuple) else col for col in price.columns]\n",
    "\n",
    "# Reset index and ensure 'date' is in '%Y-%m-%d' string format\n",
    "price = price.reset_index()\n",
    "if 'Date' in price.columns:\n",
    "    price[\"date\"] = price[\"Date\"].dt.strftime(\"%Y-%m-%d\")\n",
    "elif 'index' in price.columns:\n",
    "    price[\"date\"] = price[\"index\"].dt.strftime(\"%Y-%m-%d\")\n",
    "\n",
    "# Select only 'date' and 'Close' (or 'Close_' if needed)\n",
    "close_col = [col for col in price.columns if 'Close' in col][0]\n",
    "price = price[['date', close_col]].rename(columns={close_col: 'Close'})\n",
    "\n",
    "# Now merge\n",
    "merged = pd.merge(sentiment, price, on=\"date\", how=\"inner\")"
   ],
   "id": "87d4b288f7f5ca4f",
   "outputs": [
    {
     "name": "stderr",
     "output_type": "stream",
     "text": [
      "[*********************100%***********************]  1 of 1 completed\n"
     ]
    }
   ],
   "execution_count": 5
  },
  {
   "metadata": {
    "ExecuteTime": {
     "end_time": "2025-05-20T04:05:17.236978Z",
     "start_time": "2025-05-20T04:05:15.517077Z"
    }
   },
   "cell_type": "code",
   "source": [
    "# Quick plot\n",
    "import matplotlib.pyplot as plt\n",
    "fig, ax1 = plt.subplots()\n",
    "ax1.plot(merged[\"date\"], merged[\"Close\"], label=\"Close Price\", color=\"blue\")\n",
    "ax2 = ax1.twinx()\n",
    "ax2.plot(merged[\"date\"], merged[\"avg_sentiment\"], label=\"Avg Sentiment\", color=\"red\")\n",
    "plt.title(\"RBLX Price & News Sentiment\")\n",
    "plt.show()"
   ],
   "id": "f39686e8ef9ab4fc",
   "outputs": [
    {
     "data": {
      "text/plain": [
       "<Figure size 640x480 with 2 Axes>"
      ],
      "image/png": "[encoded data removed]"
     },
     "metadata": {},
     "output_type": "display_data"
    }
   ],
   "execution_count": 6
  },
  {
   "metadata": {
    "ExecuteTime": {
     "end_time": "2025-05-20T05:58:50.026252Z",
     "start_time": "2025-05-20T05:58:49.509735Z"
    }
   },
   "cell_type": "code",
   "source": [
    "import yfinance as yf\n",
    "import pandas as pd\n",
    "\n",
    "# List of context tickers\n",
    "context_tickers = ['^GSPC', '^IXIC', '^VIX', '^TNX', 'XLC']\n",
    "\n",
    "# Choose a date range matching your sentiment/news data\n",
    "start_date = sentiment['date'].min()\n",
    "end_date = sentiment['date'].max()\n",
    "\n",
    "# Download context data (daily Close)\n",
    "context_data = yf.download(context_tickers, start=start_date, end=end_date)['Close']\n",
    "context_data = context_data.reset_index()\n",
    "context_data['date'] = context_data['Date'].dt.strftime('%Y-%m-%d')\n",
    "context_data = context_data.drop(columns=['Date'])\n",
    "\n",
    "# Save as CSV for later merging\n",
    "context_data.to_csv('market_context_data.csv', index=False)\n",
    "print(context_data.head())\n"
   ],
   "id": "e999799c80c744b0",
   "outputs": [
    {
     "name": "stderr",
     "output_type": "stream",
     "text": [
      "[*********************100%***********************]  5 of 5 completed"
     ]
    },
    {
     "name": "stdout",
     "output_type": "stream",
     "text": [
      "Ticker        XLC        ^GSPC         ^IXIC   ^TNX   ^VIX        date\n",
      "0       91.580170  5712.689941  18179.980469  4.309  21.98  2024-11-04\n",
      "1       92.594536  5782.759766  18439.169922  4.289  20.49  2024-11-05\n",
      "2       94.871849  5929.040039  18983.470703  4.426  16.27  2024-11-06\n",
      "3       96.114937  5973.100098  19269.460938  4.341  15.20  2024-11-07\n",
      "4       95.647537  5995.540039  19286.779297  4.306  14.94  2024-11-08\n"
     ]
    },
    {
     "name": "stderr",
     "output_type": "stream",
     "text": [
      "\n"
     ]
    }
   ],
   "execution_count": 7
  }
 ],
 "metadata": {
  "kernelspec": {
   "display_name": "Python 3",
   "language": "python",
   "name": "python3"
  },
  "language_info": {
   "codemirror_mode": {
    "name": "ipython",
    "version": 2
   },
   "file_extension": ".py",
   "mimetype": "text/x-python",
   "name": "python",
   "nbconvert_exporter": "python",
   "pygments_lexer": "ipython2",
   "version": "2.7.6"
  }
 },
 "nbformat": 4,
 "nbformat_minor": 5
}
